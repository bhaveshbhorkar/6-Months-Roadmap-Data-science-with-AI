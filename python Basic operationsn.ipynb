{
 "cells": [
  {
   "cell_type": "code",
   "execution_count": 1,
   "id": "a944a9a1-df3e-483f-bafd-41f4f5b91811",
   "metadata": {},
   "outputs": [
    {
     "data": {
      "text/plain": [
       "'nitnit'"
      ]
     },
     "execution_count": 1,
     "metadata": {},
     "output_type": "execute_result"
    }
   ],
   "source": [
    "'nit' + 'nit'"
   ]
  },
  {
   "cell_type": "code",
   "execution_count": 5,
   "id": "ae043284-38f3-40af-a7fa-9cdec2f55710",
   "metadata": {},
   "outputs": [
    {
     "data": {
      "text/plain": [
       "' nit  nit  nit  nit  nit '"
      ]
     },
     "execution_count": 5,
     "metadata": {},
     "output_type": "execute_result"
    }
   ],
   "source": [
    "5 * ' nit '"
   ]
  },
  {
   "cell_type": "code",
   "execution_count": 8,
   "id": "9e24a21e-3bfa-49e6-bfd7-235f3151ba8a",
   "metadata": {},
   "outputs": [],
   "source": [
    "x = 2\n",
    "y = 3"
   ]
  },
  {
   "cell_type": "code",
   "execution_count": 9,
   "id": "e841e943-2603-4120-ba16-24d4eeeeec7a",
   "metadata": {},
   "outputs": [
    {
     "data": {
      "text/plain": [
       "5"
      ]
     },
     "execution_count": 9,
     "metadata": {},
     "output_type": "execute_result"
    }
   ],
   "source": [
    "x + y"
   ]
  },
  {
   "cell_type": "code",
   "execution_count": 12,
   "id": "19d6ea55-d014-44bf-8b14-103978814770",
   "metadata": {},
   "outputs": [
    {
     "data": {
      "text/plain": [
       "11"
      ]
     },
     "execution_count": 12,
     "metadata": {},
     "output_type": "execute_result"
    }
   ],
   "source": [
    "_ + x # (_) it will take previous value and do the operation  "
   ]
  },
  {
   "cell_type": "code",
   "execution_count": 13,
   "id": "c4fcffc0-5340-4df4-b667-aebb0680c950",
   "metadata": {},
   "outputs": [],
   "source": [
    "name = 'bhavesh'"
   ]
  },
  {
   "cell_type": "code",
   "execution_count": 14,
   "id": "f5147b77-5753-42c7-8637-582807d7904c",
   "metadata": {},
   "outputs": [
    {
     "data": {
      "text/plain": [
       "'bhavesh'"
      ]
     },
     "execution_count": 14,
     "metadata": {},
     "output_type": "execute_result"
    }
   ],
   "source": [
    "name"
   ]
  },
  {
   "cell_type": "code",
   "execution_count": 15,
   "id": "5e7397c3-ec6c-4f0f-868b-48078d367fe7",
   "metadata": {},
   "outputs": [],
   "source": [
    "last_name = 'bhorkar'"
   ]
  },
  {
   "cell_type": "code",
   "execution_count": 16,
   "id": "4b1c2cdf-4f76-4c43-af32-3553c7174b5f",
   "metadata": {},
   "outputs": [
    {
     "data": {
      "text/plain": [
       "'bhorkar'"
      ]
     },
     "execution_count": 16,
     "metadata": {},
     "output_type": "execute_result"
    }
   ],
   "source": [
    "last_name"
   ]
  },
  {
   "cell_type": "code",
   "execution_count": 23,
   "id": "66f558e2-d2d1-4c12-9131-262a8fe569bf",
   "metadata": {},
   "outputs": [
    {
     "data": {
      "text/plain": [
       "'bhaveshbhorkar'"
      ]
     },
     "execution_count": 23,
     "metadata": {},
     "output_type": "execute_result"
    }
   ],
   "source": [
    "name  +  last_name "
   ]
  },
  {
   "cell_type": "markdown",
   "id": "b32c5d0f-951e-483b-bf50-296b16bbeee7",
   "metadata": {},
   "source": [
    "####Q). Convert a 'fine' to 'dine'"
   ]
  },
  {
   "cell_type": "code",
   "execution_count": 25,
   "id": "2b970163-e5c3-4319-9ccb-80ac059608a1",
   "metadata": {},
   "outputs": [
    {
     "data": {
      "text/plain": [
       "'fine'"
      ]
     },
     "execution_count": 25,
     "metadata": {},
     "output_type": "execute_result"
    }
   ],
   "source": [
    "name1 = 'fine'\n",
    "name1"
   ]
  },
  {
   "cell_type": "code",
   "execution_count": 26,
   "id": "b4c2abac-d724-455e-bfca-4cde3d5ca4ba",
   "metadata": {},
   "outputs": [
    {
     "data": {
      "text/plain": [
       "'f'"
      ]
     },
     "execution_count": 26,
     "metadata": {},
     "output_type": "execute_result"
    }
   ],
   "source": [
    "name1[0:1]"
   ]
  },
  {
   "cell_type": "code",
   "execution_count": 28,
   "id": "92eb403b-1fc1-4ed2-92e6-3c5656980623",
   "metadata": {},
   "outputs": [
    {
     "ename": "TypeError",
     "evalue": "'str' object does not support item assignment",
     "output_type": "error",
     "traceback": [
      "\u001b[31m---------------------------------------------------------------------------\u001b[39m",
      "\u001b[31mTypeError\u001b[39m                                 Traceback (most recent call last)",
      "\u001b[36mCell\u001b[39m\u001b[36m \u001b[39m\u001b[32mIn[28]\u001b[39m\u001b[32m, line 1\u001b[39m\n\u001b[32m----> \u001b[39m\u001b[32m1\u001b[39m \u001b[43mname1\u001b[49m\u001b[43m[\u001b[49m\u001b[32;43m0\u001b[39;49m\u001b[43m]\u001b[49m = \u001b[33m'\u001b[39m\u001b[33md\u001b[39m\u001b[33m'\u001b[39m \u001b[38;5;66;03m#we can do this bcz 'str' is Immutable\u001b[39;00m\n",
      "\u001b[31mTypeError\u001b[39m: 'str' object does not support item assignment"
     ]
    }
   ],
   "source": [
    "name1[0] = 'd' #we can do this bcz 'str' is Immutable"
   ]
  },
  {
   "cell_type": "code",
   "execution_count": 29,
   "id": "5f2e4df6-dcd1-4b21-b46c-d6fae75d2fa9",
   "metadata": {},
   "outputs": [
    {
     "data": {
      "text/plain": [
       "'ine'"
      ]
     },
     "execution_count": 29,
     "metadata": {},
     "output_type": "execute_result"
    }
   ],
   "source": [
    "name1[1:]"
   ]
  },
  {
   "cell_type": "code",
   "execution_count": 31,
   "id": "47be8640-7ee6-4637-a237-251cb0355044",
   "metadata": {},
   "outputs": [
    {
     "data": {
      "text/plain": [
       "'dine'"
      ]
     },
     "execution_count": 31,
     "metadata": {},
     "output_type": "execute_result"
    }
   ],
   "source": [
    "'d'+ name1[1:]"
   ]
  },
  {
   "cell_type": "markdown",
   "id": "0a393198-52ad-4537-8c32-b1075c784ce7",
   "metadata": {},
   "source": [
    "Q2"
   ]
  },
  {
   "cell_type": "code",
   "execution_count": 33,
   "id": "be13e7f4-5671-4183-998f-fde7bf458732",
   "metadata": {},
   "outputs": [
    {
     "data": {
      "text/plain": [
       "'hye'"
      ]
     },
     "execution_count": 33,
     "metadata": {},
     "output_type": "execute_result"
    }
   ],
   "source": [
    "str1 = 'hye'\n",
    "str1"
   ]
  },
  {
   "cell_type": "code",
   "execution_count": 38,
   "id": "4f540f30-ef0c-4033-9e23-b0bda279ba0c",
   "metadata": {},
   "outputs": [
    {
     "data": {
      "text/plain": [
       "'ye'"
      ]
     },
     "execution_count": 38,
     "metadata": {},
     "output_type": "execute_result"
    }
   ],
   "source": [
    "str1[1:] "
   ]
  },
  {
   "cell_type": "code",
   "execution_count": 42,
   "id": "5bb3f45a-8bc1-401e-ac6f-e9cc14c374ae",
   "metadata": {},
   "outputs": [
    {
     "data": {
      "text/plain": [
       "'bye'"
      ]
     },
     "execution_count": 42,
     "metadata": {},
     "output_type": "execute_result"
    }
   ],
   "source": [
    "'b'+str1[1:]"
   ]
  },
  {
   "cell_type": "code",
   "execution_count": 44,
   "id": "8938eff9-0b0d-45dd-a2d3-1fa53b454573",
   "metadata": {},
   "outputs": [
    {
     "name": "stdout",
     "output_type": "stream",
     "text": [
      "Help on class list in module builtins:\n",
      "\n",
      "class list(object)\n",
      " |  list(iterable=(), /)\n",
      " |\n",
      " |  Built-in mutable sequence.\n",
      " |\n",
      " |  If no argument is given, the constructor creates a new empty list.\n",
      " |  The argument must be an iterable if specified.\n",
      " |\n",
      " |  Methods defined here:\n",
      " |\n",
      " |  __add__(self, value, /)\n",
      " |      Return self+value.\n",
      " |\n",
      " |  __contains__(self, key, /)\n",
      " |      Return bool(key in self).\n",
      " |\n",
      " |  __delitem__(self, key, /)\n",
      " |      Delete self[key].\n",
      " |\n",
      " |  __eq__(self, value, /)\n",
      " |      Return self==value.\n",
      " |\n",
      " |  __ge__(self, value, /)\n",
      " |      Return self>=value.\n",
      " |\n",
      " |  __getattribute__(self, name, /)\n",
      " |      Return getattr(self, name).\n",
      " |\n",
      " |  __getitem__(self, index, /)\n",
      " |      Return self[index].\n",
      " |\n",
      " |  __gt__(self, value, /)\n",
      " |      Return self>value.\n",
      " |\n",
      " |  __iadd__(self, value, /)\n",
      " |      Implement self+=value.\n",
      " |\n",
      " |  __imul__(self, value, /)\n",
      " |      Implement self*=value.\n",
      " |\n",
      " |  __init__(self, /, *args, **kwargs)\n",
      " |      Initialize self.  See help(type(self)) for accurate signature.\n",
      " |\n",
      " |  __iter__(self, /)\n",
      " |      Implement iter(self).\n",
      " |\n",
      " |  __le__(self, value, /)\n",
      " |      Return self<=value.\n",
      " |\n",
      " |  __len__(self, /)\n",
      " |      Return len(self).\n",
      " |\n",
      " |  __lt__(self, value, /)\n",
      " |      Return self<value.\n",
      " |\n",
      " |  __mul__(self, value, /)\n",
      " |      Return self*value.\n",
      " |\n",
      " |  __ne__(self, value, /)\n",
      " |      Return self!=value.\n",
      " |\n",
      " |  __repr__(self, /)\n",
      " |      Return repr(self).\n",
      " |\n",
      " |  __reversed__(self, /)\n",
      " |      Return a reverse iterator over the list.\n",
      " |\n",
      " |  __rmul__(self, value, /)\n",
      " |      Return value*self.\n",
      " |\n",
      " |  __setitem__(self, key, value, /)\n",
      " |      Set self[key] to value.\n",
      " |\n",
      " |  __sizeof__(self, /)\n",
      " |      Return the size of the list in memory, in bytes.\n",
      " |\n",
      " |  append(self, object, /)\n",
      " |      Append object to the end of the list.\n",
      " |\n",
      " |  clear(self, /)\n",
      " |      Remove all items from list.\n",
      " |\n",
      " |  copy(self, /)\n",
      " |      Return a shallow copy of the list.\n",
      " |\n",
      " |  count(self, value, /)\n",
      " |      Return number of occurrences of value.\n",
      " |\n",
      " |  extend(self, iterable, /)\n",
      " |      Extend list by appending elements from the iterable.\n",
      " |\n",
      " |  index(self, value, start=0, stop=9223372036854775807, /)\n",
      " |      Return first index of value.\n",
      " |\n",
      " |      Raises ValueError if the value is not present.\n",
      " |\n",
      " |  insert(self, index, object, /)\n",
      " |      Insert object before index.\n",
      " |\n",
      " |  pop(self, index=-1, /)\n",
      " |      Remove and return item at index (default last).\n",
      " |\n",
      " |      Raises IndexError if list is empty or index is out of range.\n",
      " |\n",
      " |  remove(self, value, /)\n",
      " |      Remove first occurrence of value.\n",
      " |\n",
      " |      Raises ValueError if the value is not present.\n",
      " |\n",
      " |  reverse(self, /)\n",
      " |      Reverse *IN PLACE*.\n",
      " |\n",
      " |  sort(self, /, *, key=None, reverse=False)\n",
      " |      Sort the list in ascending order and return None.\n",
      " |\n",
      " |      The sort is in-place (i.e. the list itself is modified) and stable (i.e. the\n",
      " |      order of two equal elements is maintained).\n",
      " |\n",
      " |      If a key function is given, apply it once to each list item and sort them,\n",
      " |      ascending or descending, according to their function values.\n",
      " |\n",
      " |      The reverse flag can be set to sort in descending order.\n",
      " |\n",
      " |  ----------------------------------------------------------------------\n",
      " |  Class methods defined here:\n",
      " |\n",
      " |  __class_getitem__(...)\n",
      " |      See PEP 585\n",
      " |\n",
      " |  ----------------------------------------------------------------------\n",
      " |  Static methods defined here:\n",
      " |\n",
      " |  __new__(*args, **kwargs)\n",
      " |      Create and return a new object.  See help(type) for accurate signature.\n",
      " |\n",
      " |  ----------------------------------------------------------------------\n",
      " |  Data and other attributes defined here:\n",
      " |\n",
      " |  __hash__ = None\n",
      "\n"
     ]
    }
   ],
   "source": [
    "help(list) #by this we can get to know about list by calling help option"
   ]
  },
  {
   "cell_type": "code",
   "execution_count": 47,
   "id": "df761301-1569-4191-8f1e-711958c2eaf3",
   "metadata": {},
   "outputs": [],
   "source": [
    "x =4 #found id of x"
   ]
  },
  {
   "cell_type": "code",
   "execution_count": 48,
   "id": "a230805c-e314-490e-bbee-80c67efc9e07",
   "metadata": {},
   "outputs": [
    {
     "data": {
      "text/plain": [
       "140714935396888"
      ]
     },
     "execution_count": 48,
     "metadata": {},
     "output_type": "execute_result"
    }
   ],
   "source": [
    "id(x)"
   ]
  },
  {
   "cell_type": "code",
   "execution_count": 49,
   "id": "fafd73bd-785f-4a8b-9bd1-38e267ba8475",
   "metadata": {},
   "outputs": [
    {
     "data": {
      "text/plain": [
       "1842242164832"
      ]
     },
     "execution_count": 49,
     "metadata": {},
     "output_type": "execute_result"
    }
   ],
   "source": [
    "id(str1)"
   ]
  },
  {
   "cell_type": "code",
   "execution_count": 51,
   "id": "1b98752a-dc4c-437c-9a4f-a0e43370b17a",
   "metadata": {},
   "outputs": [],
   "source": [
    "a = b = 10"
   ]
  },
  {
   "cell_type": "code",
   "execution_count": 53,
   "id": "72bfd9ca-7c6b-4559-ba52-061278bc5dba",
   "metadata": {},
   "outputs": [
    {
     "name": "stdout",
     "output_type": "stream",
     "text": [
      "140714935397080\n",
      "140714935397080\n",
      "140714935397080\n"
     ]
    }
   ],
   "source": [
    "print(id(b))   #id is same bcz it will alocate same memory thats why same id\n",
    "print(id(a))\n",
    "print(id(10))"
   ]
  },
  {
   "cell_type": "code",
   "execution_count": null,
   "id": "06941699-12f3-49a8-9737-512a85ea88d3",
   "metadata": {},
   "outputs": [],
   "source": []
  },
  {
   "cell_type": "code",
   "execution_count": null,
   "id": "72771e93-11e1-463a-b307-1dd9608b408a",
   "metadata": {},
   "outputs": [],
   "source": []
  },
  {
   "cell_type": "code",
   "execution_count": null,
   "id": "3f00b650-53ce-4070-8db6-919583f72706",
   "metadata": {},
   "outputs": [],
   "source": []
  }
 ],
 "metadata": {
  "kernelspec": {
   "display_name": "Python 3 (ipykernel)",
   "language": "python",
   "name": "python3"
  },
  "language_info": {
   "codemirror_mode": {
    "name": "ipython",
    "version": 3
   },
   "file_extension": ".py",
   "mimetype": "text/x-python",
   "name": "python",
   "nbconvert_exporter": "python",
   "pygments_lexer": "ipython3",
   "version": "3.12.7"
  }
 },
 "nbformat": 4,
 "nbformat_minor": 5
}
