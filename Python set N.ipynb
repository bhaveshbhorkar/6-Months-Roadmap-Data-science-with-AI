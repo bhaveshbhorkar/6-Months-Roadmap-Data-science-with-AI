{
 "cells": [
  {
   "cell_type": "code",
   "execution_count": 1,
   "id": "7500a455",
   "metadata": {},
   "outputs": [
    {
     "name": "stdout",
     "output_type": "stream",
     "text": [
      "{1, 5}\n"
     ]
    }
   ],
   "source": [
    "b = set([1,5,1]) #explicit typecasting\n",
    "print(b)"
   ]
  },
  {
   "cell_type": "code",
   "execution_count": 9,
   "id": "1b604693",
   "metadata": {},
   "outputs": [
    {
     "name": "stdout",
     "output_type": "stream",
     "text": [
      "{'k', False, 88, 'Bhavesh'}\n"
     ]
    }
   ],
   "source": [
    "a = {'k','Bhavesh',88,False,0} #we created set\n",
    "print(a)"
   ]
  },
  {
   "cell_type": "code",
   "execution_count": 10,
   "id": "8d1cd500",
   "metadata": {},
   "outputs": [
    {
     "name": "stdout",
     "output_type": "stream",
     "text": [
      "{0, 1, 55, 'k', 'u'}\n"
     ]
    }
   ],
   "source": [
    "H = {'k','u',55,0,1,1,55,False,True,False} #creating Hetro set\n",
    "print(H)  #in output there will bw no bollean values at that place it will replaced by or values and print remaining or value"
   ]
  },
  {
   "cell_type": "code",
   "execution_count": 11,
   "id": "2c6d58b0",
   "metadata": {},
   "outputs": [
    {
     "name": "stdout",
     "output_type": "stream",
     "text": [
      "set()\n",
      "<class 'set'>\n",
      "{}\n",
      "<class 'dict'>\n"
     ]
    }
   ],
   "source": [
    "a = set() #creating an empty set / we cannot create empty set directly by curly braces we have to use operator\n",
    "print(a)\n",
    "print(type(a))\n",
    "\n",
    "f = {} #by creating empty set directly it looks like an set by acctully its type will Dict\n",
    "print(f)\n",
    "print(type(f))"
   ]
  },
  {
   "cell_type": "code",
   "execution_count": 12,
   "id": "5c019437",
   "metadata": {},
   "outputs": [
    {
     "name": "stdout",
     "output_type": "stream",
     "text": [
      "{0, 1, 'hi'}\n"
     ]
    }
   ],
   "source": [
    "j = {1,0,1,0,True,False,'hi'} #dupelicate value are not allowed here in set it will see same True=1 , False=0 \n",
    "print(j)"
   ]
  },
  {
   "cell_type": "code",
   "execution_count": 13,
   "id": "94601bc8",
   "metadata": {},
   "outputs": [
    {
     "name": "stdout",
     "output_type": "stream",
     "text": [
      "3\n"
     ]
    }
   ],
   "source": [
    "print(len(j)) #by this we can find out the length of created set"
   ]
  },
  {
   "cell_type": "code",
   "execution_count": 14,
   "id": "99df51ce",
   "metadata": {},
   "outputs": [
    {
     "name": "stdout",
     "output_type": "stream",
     "text": [
      "True\n",
      "False\n"
     ]
    }
   ],
   "source": [
    "print('hi' in j) # by this we can find out in or out(hi is in the set)\n",
    "print('go' in j) # go is not in this set"
   ]
  },
  {
   "cell_type": "code",
   "execution_count": 15,
   "id": "90eef18e",
   "metadata": {},
   "outputs": [
    {
     "name": "stdout",
     "output_type": "stream",
     "text": [
      "{0, 1, 'hi'}\n",
      "{0, 1, 'kick', 'hi'}\n"
     ]
    }
   ],
   "source": [
    "print(j)\n",
    "j.add('kick') #by this (add) methode we can add value in the defined set but we can add only single element by this (add methode)\n",
    "print(j)"
   ]
  },
  {
   "cell_type": "code",
   "execution_count": 16,
   "id": "bcdab7e8",
   "metadata": {},
   "outputs": [
    {
     "name": "stdout",
     "output_type": "stream",
     "text": [
      "{0, 1, 'kick', 'hi'}\n",
      "{0, 1, 'hello', 'tadda', 'hi', 'kick', 'go away'}\n"
     ]
    }
   ],
   "source": [
    "print(j)\n",
    "j.update(('hello','tadda','go away')) #by this (update) methode we can add multiple(elements/values) into our set\n",
    "print(j)"
   ]
  },
  {
   "cell_type": "code",
   "execution_count": 17,
   "id": "2ec8608f",
   "metadata": {},
   "outputs": [
    {
     "name": "stdout",
     "output_type": "stream",
     "text": [
      "{0, 1, 'hello', 'tadda', 'hi', 'kick', 'go away'}\n",
      "{0, 1, 'hello', 'tadda', 'hi', 'go away'}\n"
     ]
    }
   ],
   "source": [
    "print(j)\n",
    "j.remove('kick') #by remove methode we remove particular value from set\n",
    "print(j)"
   ]
  },
  {
   "cell_type": "code",
   "execution_count": null,
   "id": "5c760f2c",
   "metadata": {},
   "outputs": [
    {
     "name": "stdout",
     "output_type": "stream",
     "text": [
      "set()\n"
     ]
    }
   ],
   "source": [
    "H.clear()   #by this clear Methode we can empty entire set.\n",
    "print(H)\n"
   ]
  },
  {
   "cell_type": "code",
   "execution_count": 20,
   "id": "9cf0b4e0",
   "metadata": {},
   "outputs": [],
   "source": [
    "num1 = {80,80,50,60,44}\n",
    "num2 = {44,55,66,88,99}"
   ]
  },
  {
   "cell_type": "code",
   "execution_count": 24,
   "id": "0a2dc63f",
   "metadata": {},
   "outputs": [
    {
     "name": "stdout",
     "output_type": "stream",
     "text": [
      "{66, 99, 44, 80, 50, 55, 88, 60}\n"
     ]
    }
   ],
   "source": [
    "num3 = num1.union(num2) #by union methode we can combine both sets but it adjust the duplicate value, duplicate value will not be given\n",
    "print(num3)"
   ]
  },
  {
   "cell_type": "code",
   "execution_count": 26,
   "id": "105c1b9d",
   "metadata": {},
   "outputs": [
    {
     "name": "stdout",
     "output_type": "stream",
     "text": [
      "{44}\n"
     ]
    }
   ],
   "source": [
    "num3 = num2.intersection(num1) #by this intersection methode we can find out commen element from our set.\n",
    "print(num3)"
   ]
  },
  {
   "cell_type": "code",
   "execution_count": 27,
   "id": "2e8f8fa9",
   "metadata": {},
   "outputs": [],
   "source": [
    "x = {10,20,30,40,50}\n",
    "y = {10,20,80,90,100}\n"
   ]
  },
  {
   "cell_type": "code",
   "execution_count": 30,
   "id": "625660ae",
   "metadata": {},
   "outputs": [
    {
     "name": "stdout",
     "output_type": "stream",
     "text": [
      "{40, 50, 30}\n"
     ]
    }
   ],
   "source": [
    "z = x.difference(y) #this is the dofference methode by this we can take out the non common elements from both if our set.\n",
    "print(z)"
   ]
  },
  {
   "cell_type": "code",
   "execution_count": 31,
   "id": "1ebf48ca",
   "metadata": {},
   "outputs": [
    {
     "name": "stdout",
     "output_type": "stream",
     "text": [
      "{80, 50, 100, 90, 40, 30}\n"
     ]
    }
   ],
   "source": [
    "s = x.symmetric_difference(y)\n",
    "print(s)"
   ]
  },
  {
   "cell_type": "code",
   "execution_count": null,
   "id": "37698fe1",
   "metadata": {},
   "outputs": [],
   "source": []
  }
 ],
 "metadata": {
  "kernelspec": {
   "display_name": "Python 3",
   "language": "python",
   "name": "python3"
  },
  "language_info": {
   "codemirror_mode": {
    "name": "ipython",
    "version": 3
   },
   "file_extension": ".py",
   "mimetype": "text/x-python",
   "name": "python",
   "nbconvert_exporter": "python",
   "pygments_lexer": "ipython3",
   "version": "3.9.9"
  }
 },
 "nbformat": 4,
 "nbformat_minor": 5
}
