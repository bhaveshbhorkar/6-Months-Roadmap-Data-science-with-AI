{
 "cells": [
  {
   "cell_type": "markdown",
   "id": "c1908c7b-cfd1-40ef-b4ed-6f658d194f1a",
   "metadata": {},
   "source": [
    "#operators"
   ]
  },
  {
   "cell_type": "markdown",
   "id": "db396ec5-e4be-4389-b985-6a369c262ee1",
   "metadata": {},
   "source": [
    "1). Arthmetic Operator"
   ]
  },
  {
   "cell_type": "code",
   "execution_count": 8,
   "id": "a1b9f6cc-d8af-4492-a2c8-3aec875fa72d",
   "metadata": {},
   "outputs": [],
   "source": [
    "x1 = 10"
   ]
  },
  {
   "cell_type": "code",
   "execution_count": 9,
   "id": "f3171baa-0bde-42e3-857a-abeaca0ab3e2",
   "metadata": {},
   "outputs": [
    {
     "data": {
      "text/plain": [
       "20"
      ]
     },
     "execution_count": 9,
     "metadata": {},
     "output_type": "execute_result"
    }
   ],
   "source": [
    "x1+x1"
   ]
  },
  {
   "cell_type": "code",
   "execution_count": 10,
   "id": "ea9eae52-1aed-426f-8b9e-9262d0f8ae59",
   "metadata": {},
   "outputs": [
    {
     "data": {
      "text/plain": [
       "0"
      ]
     },
     "execution_count": 10,
     "metadata": {},
     "output_type": "execute_result"
    }
   ],
   "source": [
    "x1-x1"
   ]
  },
  {
   "cell_type": "code",
   "execution_count": 11,
   "id": "5bbb9adc-8137-4278-a5e8-d965cde14b31",
   "metadata": {},
   "outputs": [
    {
     "data": {
      "text/plain": [
       "100"
      ]
     },
     "execution_count": 11,
     "metadata": {},
     "output_type": "execute_result"
    }
   ],
   "source": [
    "x1*x1"
   ]
  },
  {
   "cell_type": "code",
   "execution_count": 12,
   "id": "0728025b-c2a0-4b56-bde7-15ed8fc008c8",
   "metadata": {},
   "outputs": [
    {
     "data": {
      "text/plain": [
       "1.0"
      ]
     },
     "execution_count": 12,
     "metadata": {},
     "output_type": "execute_result"
    }
   ],
   "source": [
    "x1/x1"
   ]
  },
  {
   "cell_type": "code",
   "execution_count": 14,
   "id": "fa41cf0d-78fc-4280-a7f5-346c7ca121ae",
   "metadata": {},
   "outputs": [],
   "source": [
    "x2 = 2"
   ]
  },
  {
   "cell_type": "code",
   "execution_count": 15,
   "id": "b6d740e4-8cf9-45ba-9376-b01377fe0133",
   "metadata": {},
   "outputs": [
    {
     "data": {
      "text/plain": [
       "5.0"
      ]
     },
     "execution_count": 15,
     "metadata": {},
     "output_type": "execute_result"
    }
   ],
   "source": [
    "x1/x2"
   ]
  },
  {
   "cell_type": "code",
   "execution_count": 16,
   "id": "69dae5b8-505a-4306-9e37-068a8377e8cc",
   "metadata": {},
   "outputs": [
    {
     "data": {
      "text/plain": [
       "0"
      ]
     },
     "execution_count": 16,
     "metadata": {},
     "output_type": "execute_result"
    }
   ],
   "source": [
    "x1%x2"
   ]
  },
  {
   "cell_type": "code",
   "execution_count": 17,
   "id": "b884033c-24f8-4bd6-a381-73a9121ed77d",
   "metadata": {},
   "outputs": [
    {
     "data": {
      "text/plain": [
       "100"
      ]
     },
     "execution_count": 17,
     "metadata": {},
     "output_type": "execute_result"
    }
   ],
   "source": [
    "x1**x2"
   ]
  },
  {
   "cell_type": "markdown",
   "id": "898d35b1-1d26-4a4b-b38e-f1f1d98252c7",
   "metadata": {},
   "source": [
    "2). Assingment Operator"
   ]
  },
  {
   "cell_type": "code",
   "execution_count": 18,
   "id": "34e62b2c-73be-4e55-9540-4a50e283c1ea",
   "metadata": {},
   "outputs": [],
   "source": [
    "y = 2"
   ]
  },
  {
   "cell_type": "code",
   "execution_count": 20,
   "id": "4d4b9941-6eb4-4af9-b2d6-bb6948fd4991",
   "metadata": {},
   "outputs": [],
   "source": [
    "y = y + 2"
   ]
  },
  {
   "cell_type": "code",
   "execution_count": 21,
   "id": "b69db3f2-a3b7-48b7-8be6-bc4799c3f9fa",
   "metadata": {},
   "outputs": [
    {
     "data": {
      "text/plain": [
       "6"
      ]
     },
     "execution_count": 21,
     "metadata": {},
     "output_type": "execute_result"
    }
   ],
   "source": [
    "y"
   ]
  },
  {
   "cell_type": "code",
   "execution_count": 22,
   "id": "af658e05-16ef-41d2-9d02-051b7ff992be",
   "metadata": {},
   "outputs": [],
   "source": [
    "y += 2"
   ]
  },
  {
   "cell_type": "code",
   "execution_count": 23,
   "id": "67b9980e-8e39-4d16-b497-76b0bc42660e",
   "metadata": {},
   "outputs": [
    {
     "data": {
      "text/plain": [
       "8"
      ]
     },
     "execution_count": 23,
     "metadata": {},
     "output_type": "execute_result"
    }
   ],
   "source": [
    "y"
   ]
  },
  {
   "cell_type": "code",
   "execution_count": 24,
   "id": "ce69f417-3c57-46b0-a95f-d6d335b03d20",
   "metadata": {},
   "outputs": [],
   "source": [
    "y +=2"
   ]
  },
  {
   "cell_type": "code",
   "execution_count": 25,
   "id": "37d9c2da-bbbf-437e-bdcc-2fc7b24ef40b",
   "metadata": {},
   "outputs": [
    {
     "data": {
      "text/plain": [
       "10"
      ]
     },
     "execution_count": 25,
     "metadata": {},
     "output_type": "execute_result"
    }
   ],
   "source": [
    "y"
   ]
  },
  {
   "cell_type": "code",
   "execution_count": 26,
   "id": "31315913-4f92-4a61-9e0f-f6db4c898506",
   "metadata": {},
   "outputs": [],
   "source": [
    "y -= 2"
   ]
  },
  {
   "cell_type": "code",
   "execution_count": 27,
   "id": "29a76745-5ab0-440e-ab66-38cbc9832551",
   "metadata": {},
   "outputs": [
    {
     "data": {
      "text/plain": [
       "8"
      ]
     },
     "execution_count": 27,
     "metadata": {},
     "output_type": "execute_result"
    }
   ],
   "source": [
    "y"
   ]
  },
  {
   "cell_type": "code",
   "execution_count": 30,
   "id": "07dcfe90-6e58-4921-9f81-aacb02b791ca",
   "metadata": {},
   "outputs": [],
   "source": [
    "y /=2 #two times division"
   ]
  },
  {
   "cell_type": "code",
   "execution_count": 29,
   "id": "cd009148-0b3f-41c2-b431-8a1526ee819a",
   "metadata": {},
   "outputs": [
    {
     "data": {
      "text/plain": [
       "4.0"
      ]
     },
     "execution_count": 29,
     "metadata": {},
     "output_type": "execute_result"
    }
   ],
   "source": [
    "y"
   ]
  },
  {
   "cell_type": "markdown",
   "id": "0e41114b-2486-4843-bd48-e05ac0160dc0",
   "metadata": {},
   "source": [
    "3). Unary Operator :-\n",
    "here we are applying unary minus(-) operator on operand"
   ]
  },
  {
   "cell_type": "code",
   "execution_count": 31,
   "id": "267a0c3d-da54-4704-8f3e-f5ed0cd5e6ac",
   "metadata": {},
   "outputs": [],
   "source": [
    "n = 7"
   ]
  },
  {
   "cell_type": "code",
   "execution_count": 32,
   "id": "977d88e4-9b33-438f-b1a5-8745c5934f42",
   "metadata": {},
   "outputs": [],
   "source": [
    "n =-(n)"
   ]
  },
  {
   "cell_type": "code",
   "execution_count": 33,
   "id": "14c54c51-cfaa-47b4-af1b-9d06576a185a",
   "metadata": {},
   "outputs": [
    {
     "data": {
      "text/plain": [
       "-7"
      ]
     },
     "execution_count": 33,
     "metadata": {},
     "output_type": "execute_result"
    }
   ],
   "source": [
    "n"
   ]
  },
  {
   "cell_type": "markdown",
   "id": "5edeba85-6135-4967-8ded-7919c10f4be7",
   "metadata": {},
   "source": [
    "4). Relational Operator :-- In this we are using operator for comparing"
   ]
  },
  {
   "cell_type": "code",
   "execution_count": 35,
   "id": "2b714ac6-f3f1-408b-b441-8f64daae7864",
   "metadata": {},
   "outputs": [],
   "source": [
    "a = 5\n",
    "b = 7"
   ]
  },
  {
   "cell_type": "code",
   "execution_count": 36,
   "id": "f5e75541-0d23-414e-b7ec-87a6c2eb57e5",
   "metadata": {},
   "outputs": [
    {
     "data": {
      "text/plain": [
       "False"
      ]
     },
     "execution_count": 36,
     "metadata": {},
     "output_type": "execute_result"
    }
   ],
   "source": [
    "a == b"
   ]
  },
  {
   "cell_type": "code",
   "execution_count": 37,
   "id": "d82b5b16-4239-4776-99b1-2b60a4e1bb77",
   "metadata": {},
   "outputs": [
    {
     "data": {
      "text/plain": [
       "True"
      ]
     },
     "execution_count": 37,
     "metadata": {},
     "output_type": "execute_result"
    }
   ],
   "source": [
    "a<b"
   ]
  },
  {
   "cell_type": "code",
   "execution_count": 38,
   "id": "854ab96c-c293-43a5-a3ad-231575cc4a21",
   "metadata": {},
   "outputs": [
    {
     "data": {
      "text/plain": [
       "False"
      ]
     },
     "execution_count": 38,
     "metadata": {},
     "output_type": "execute_result"
    }
   ],
   "source": [
    "a>b"
   ]
  },
  {
   "cell_type": "code",
   "execution_count": 39,
   "id": "5e29d956-db01-43e1-a067-178f839ca74c",
   "metadata": {},
   "outputs": [
    {
     "data": {
      "text/plain": [
       "True"
      ]
     },
     "execution_count": 39,
     "metadata": {},
     "output_type": "execute_result"
    }
   ],
   "source": [
    "a != b"
   ]
  },
  {
   "cell_type": "code",
   "execution_count": 40,
   "id": "479cebb6-1fda-42d2-8763-b3c96b58725f",
   "metadata": {},
   "outputs": [
    {
     "data": {
      "text/plain": [
       "True"
      ]
     },
     "execution_count": 40,
     "metadata": {},
     "output_type": "execute_result"
    }
   ],
   "source": [
    "a != 6"
   ]
  },
  {
   "cell_type": "code",
   "execution_count": 41,
   "id": "8b7044ac-4dc3-41f2-a12c-4ee2534d673f",
   "metadata": {},
   "outputs": [
    {
     "data": {
      "text/plain": [
       "False"
      ]
     },
     "execution_count": 41,
     "metadata": {},
     "output_type": "execute_result"
    }
   ],
   "source": [
    "a != 5"
   ]
  },
  {
   "cell_type": "code",
   "execution_count": 44,
   "id": "a079807c-bf12-48c6-b479-053aadcc80c3",
   "metadata": {},
   "outputs": [
    {
     "data": {
      "text/plain": [
       "True"
      ]
     },
     "execution_count": 44,
     "metadata": {},
     "output_type": "execute_result"
    }
   ],
   "source": [
    "a == 5"
   ]
  },
  {
   "cell_type": "markdown",
   "id": "844c71fb-7de5-43a2-b327-0307e21df9ba",
   "metadata": {},
   "source": [
    "5). Logical Operator\n"
   ]
  },
  {
   "cell_type": "code",
   "execution_count": 45,
   "id": "fcf3c35d-67d1-4759-9123-598be627af32",
   "metadata": {},
   "outputs": [],
   "source": [
    "c = 5\n",
    "x = 4"
   ]
  },
  {
   "cell_type": "code",
   "execution_count": 50,
   "id": "56d631e3-1384-438d-9a9d-54037c233313",
   "metadata": {},
   "outputs": [
    {
     "data": {
      "text/plain": [
       "True"
      ]
     },
     "execution_count": 50,
     "metadata": {},
     "output_type": "execute_result"
    }
   ],
   "source": [
    "c < 8 and x < 5"
   ]
  },
  {
   "cell_type": "code",
   "execution_count": 47,
   "id": "339a04e2-bbff-4606-ab05-75b63665660d",
   "metadata": {},
   "outputs": [
    {
     "data": {
      "text/plain": [
       "2"
      ]
     },
     "execution_count": 47,
     "metadata": {},
     "output_type": "execute_result"
    }
   ],
   "source": [
    "True + True"
   ]
  },
  {
   "cell_type": "code",
   "execution_count": 51,
   "id": "5c2b520b-a19b-4da2-aff4-4284f0f03266",
   "metadata": {},
   "outputs": [
    {
     "data": {
      "text/plain": [
       "True"
      ]
     },
     "execution_count": 51,
     "metadata": {},
     "output_type": "execute_result"
    }
   ],
   "source": [
    "c < 8 or x <2"
   ]
  },
  {
   "cell_type": "code",
   "execution_count": null,
   "id": "bf779c3b-7c7c-4180-9d03-77544629829a",
   "metadata": {},
   "outputs": [],
   "source": []
  },
  {
   "cell_type": "code",
   "execution_count": null,
   "id": "25e70485-926b-483a-be44-7a8be47079e5",
   "metadata": {},
   "outputs": [],
   "source": []
  },
  {
   "cell_type": "code",
   "execution_count": null,
   "id": "87946de3-2516-4071-976b-448362df909d",
   "metadata": {},
   "outputs": [],
   "source": []
  },
  {
   "cell_type": "code",
   "execution_count": null,
   "id": "94ae269d-4466-492a-9543-c37790584148",
   "metadata": {},
   "outputs": [],
   "source": []
  },
  {
   "cell_type": "code",
   "execution_count": null,
   "id": "03a7698e-3679-486a-af1e-889f549e684b",
   "metadata": {},
   "outputs": [],
   "source": []
  },
  {
   "cell_type": "code",
   "execution_count": null,
   "id": "cf3a34fa-7512-4e77-af1c-968f4095fce4",
   "metadata": {},
   "outputs": [],
   "source": []
  },
  {
   "cell_type": "code",
   "execution_count": null,
   "id": "a367ca5c-c7cf-4602-a9d7-45cce09b6f6a",
   "metadata": {},
   "outputs": [],
   "source": []
  }
 ],
 "metadata": {
  "kernelspec": {
   "display_name": "Python 3 (ipykernel)",
   "language": "python",
   "name": "python3"
  },
  "language_info": {
   "codemirror_mode": {
    "name": "ipython",
    "version": 3
   },
   "file_extension": ".py",
   "mimetype": "text/x-python",
   "name": "python",
   "nbconvert_exporter": "python",
   "pygments_lexer": "ipython3",
   "version": "3.12.7"
  }
 },
 "nbformat": 4,
 "nbformat_minor": 5
}
