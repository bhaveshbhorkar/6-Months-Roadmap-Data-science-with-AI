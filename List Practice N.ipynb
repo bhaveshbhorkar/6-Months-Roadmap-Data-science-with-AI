{
 "cells": [
  {
   "cell_type": "markdown",
   "id": "913a30a4-8ddd-48c4-a28a-9a9a464289e7",
   "metadata": {},
   "source": [
    "\"List operations Practice\""
   ]
  },
  {
   "cell_type": "code",
   "execution_count": 3,
   "id": "a6c54bd4-099d-4bc6-a353-97938c1270a5",
   "metadata": {},
   "outputs": [
    {
     "name": "stdout",
     "output_type": "stream",
     "text": [
      "[8, 8, 9, 7, 'Bhavesh', 'david']\n"
     ]
    }
   ],
   "source": [
    "P_list = [8,8,9,7,'Bhavesh','david'] #created list suceesfully\n",
    "print(P_list)"
   ]
  },
  {
   "cell_type": "code",
   "execution_count": 5,
   "id": "5814a45b-7858-4403-98e2-0c059c6ee0b8",
   "metadata": {},
   "outputs": [
    {
     "data": {
      "text/plain": [
       "6"
      ]
     },
     "execution_count": 5,
     "metadata": {},
     "output_type": "execute_result"
    }
   ],
   "source": [
    "len(P_list) #checking the length of out created list"
   ]
  },
  {
   "cell_type": "code",
   "execution_count": 8,
   "id": "a1b88f93-283d-4b0b-ab5d-ca484b5478d1",
   "metadata": {},
   "outputs": [
    {
     "name": "stdout",
     "output_type": "stream",
     "text": [
      "[8, 8, 9, 7, 'Bhavesh', 'david', 878, 878, 878]\n"
     ]
    }
   ],
   "source": [
    "P_list.append(878) #list is mutable hence we can add the element into the list by append, append will add elemnt into list at the end\n",
    "print(P_list)"
   ]
  },
  {
   "cell_type": "code",
   "execution_count": 15,
   "id": "4735412f-5ff9-466b-9820-d588e827dbe4",
   "metadata": {},
   "outputs": [
    {
     "name": "stdout",
     "output_type": "stream",
     "text": [
      "[8, 8, 9, 7, 'Bhavesh', 'david', 878, 878, 878, ['hello', 'hi', '45'], ['hello', 'hi', '45'], ['hello', 'hi', 45], ['hello', 'hi', 45, 'True', (88+4j)], ['hello', 'hi', 45, 'True', (88+4j)]]\n"
     ]
    }
   ],
   "source": [
    "P_list.append(['hello','hi',45,'True',88+4j]) #by adding sqr braces we can add multiple data type related elements into out reated list\n",
    "print(P_list)"
   ]
  },
  {
   "cell_type": "code",
   "execution_count": 16,
   "id": "9c2ca537-0eb8-4ab2-811a-6f6e991f4202",
   "metadata": {},
   "outputs": [
    {
     "data": {
      "text/plain": [
       "[8, 9, 7]"
      ]
     },
     "execution_count": 16,
     "metadata": {},
     "output_type": "execute_result"
    }
   ],
   "source": [
    "P_list[1:4] #slicing into list"
   ]
  },
  {
   "cell_type": "code",
   "execution_count": 18,
   "id": "b495e192-9745-4bda-b102-f2b9c084e5e6",
   "metadata": {},
   "outputs": [
    {
     "name": "stdout",
     "output_type": "stream",
     "text": [
      "david\n",
      "['hello', 'hi', '45']\n"
     ]
    }
   ],
   "source": [
    "print(P_list[5]) #access the 5th iteam \n",
    "print(P_list[9]) #access the 9th iteam"
   ]
  },
  {
   "cell_type": "code",
   "execution_count": 22,
   "id": "8bd89764-be41-450f-9af5-d4a65c9e35e5",
   "metadata": {},
   "outputs": [
    {
     "name": "stdout",
     "output_type": "stream",
     "text": [
      "[69, 8, 'get out', 7, 'Bhavesh', 'Iam angry with you', 878, 878, 878, ['hello', 'hi', '45'], ['hello', 'hi', '45'], ['hello', 'hi', 45], ['hello', 'hi', 45, 'True', (88+4j)], ['hello', 'hi', 45, 'True', (88+4j)]]\n"
     ]
    }
   ],
   "source": [
    "P_list[2] = 'get out'\n",
    "P_list[5] = 'Iam angry with you'  #Changed the list iteams\n",
    "P_list[0] = 69\n",
    "print(P_list)"
   ]
  },
  {
   "cell_type": "code",
   "execution_count": 32,
   "id": "62ba77e5-de47-4b52-99c5-333e41592c5e",
   "metadata": {},
   "outputs": [
    {
     "name": "stdout",
     "output_type": "stream",
     "text": [
      "[69, 8, 'hello', 'hello', 'True', 'get out', 7, 'Bhavesh', 'Iam angry with you', 878, 878, 878, ['hello', 'hi', '45'], ['hello', 'hi', '45'], ['hello', 'hi', 45], ['hello', 'hi', 45, 'True', (88+4j)], ['hello', 'hi', 45, 'True', (88+4j)], 'True', 'True']\n"
     ]
    }
   ],
   "source": [
    "P_list.insert(2,'hello') #interted the iteam at the index no.2\n",
    "print(P_list)"
   ]
  },
  {
   "cell_type": "code",
   "execution_count": 38,
   "id": "8ef76dbf-44bf-48d8-8fbf-1b8d97a5ef19",
   "metadata": {},
   "outputs": [
    {
     "name": "stdout",
     "output_type": "stream",
     "text": [
      "['hello', 55, 69, 99, 'True']\n"
     ]
    }
   ],
   "source": [
    "O_list = ['hello',55,69,99,'True']  #created list \n",
    "print(O_list)"
   ]
  },
  {
   "cell_type": "code",
   "execution_count": 40,
   "id": "fe688a3d-c4f4-4685-a685-06987d7079dc",
   "metadata": {},
   "outputs": [
    {
     "name": "stdout",
     "output_type": "stream",
     "text": [
      "[69, 8, 'hello', 'hello', 'True', 'get out', 7, 'Bhavesh', 'Iam angry with you', 878, 878, 878, ['hello', 'hi', '45'], ['hello', 'hi', '45'], ['hello', 'hi', 45], ['hello', 'hi', 45, 'True', (88+4j)], ['hello', 'hi', 45, 'True', (88+4j)], 'True', 'True', 'hello', 55, 69, 99, 'True', 'hello', 55, 69, 99, 'True']\n"
     ]
    }
   ],
   "source": [
    "P_list.extend(O_list)\n",
    "print(P_list)"
   ]
  },
  {
   "cell_type": "code",
   "execution_count": 42,
   "id": "021f9735-328c-40da-8426-5793f99d7186",
   "metadata": {},
   "outputs": [
    {
     "name": "stdout",
     "output_type": "stream",
     "text": [
      "['hello', 55, 69, 99, 'True', 69, 8, 'hello', 'hello', 'True', 'get out', 7, 'Bhavesh', 'Iam angry with you', 878, 878, 878, ['hello', 'hi', '45'], ['hello', 'hi', '45'], ['hello', 'hi', 45], ['hello', 'hi', 45, 'True', (88+4j)], ['hello', 'hi', 45, 'True', (88+4j)], 'True', 'True', 'hello', 55, 69, 99, 'True', 'hello', 55, 69, 99, 'True', 69, 8, 'hello', 'hello', 'True', 'get out', 7, 'Bhavesh', 'Iam angry with you', 878, 878, 878, ['hello', 'hi', '45'], ['hello', 'hi', '45'], ['hello', 'hi', 45], ['hello', 'hi', 45, 'True', (88+4j)], ['hello', 'hi', 45, 'True', (88+4j)], 'True', 'True', 'hello', 55, 69, 99, 'True', 'hello', 55, 69, 99, 'True']\n"
     ]
    }
   ],
   "source": [
    "O_list.extend(P_list)  #Extended the list\n",
    "print(O_list)"
   ]
  },
  {
   "cell_type": "code",
   "execution_count": 60,
   "id": "461389e3-d9cc-419a-8881-9aa6b9efdd76",
   "metadata": {},
   "outputs": [
    {
     "name": "stdout",
     "output_type": "stream",
     "text": [
      "[69, 99, 'True', 69, 8, 'hello', 'hello', 'True', 'get out', 7, 'Bhavesh', 'Iam angry with you', 878, 878, 878, ['hello', 'hi', '45'], ['hello', 'hi', '45'], ['hello', 'hi', 45], ['hello', 'hi', 45, 'True', (88+4j)], ['hello', 'hi', 45, 'True', (88+4j)], 'True', 'True', 'hello', 55, 69, 99, 'True', 'hello', 55, 69, 99, 'True', 69, 8, 'hello', 'hello', 'True', 'get out', 7, 'Bhavesh', 'Iam angry with you', 878, 878, 878, ['hello', 'hi', '45'], ['hello', 'hi', '45'], ['hello', 'hi', 45], ['hello', 'hi', 45, 'True', (88+4j)], ['hello', 'hi', 45, 'True', (88+4j)], 'True', 'True', 'hello', 55, 69, 99, 'True', 'hello', 55, 69, 99, 'True']\n"
     ]
    }
   ],
   "source": [
    "O_list.remove('hello') #remove iteam from list\n",
    "print(O_list)"
   ]
  },
  {
   "cell_type": "code",
   "execution_count": 62,
   "id": "bee9619e-0a45-4f45-9686-1111e4434e23",
   "metadata": {},
   "outputs": [
    {
     "name": "stdout",
     "output_type": "stream",
     "text": [
      "[]\n",
      "[]\n"
     ]
    }
   ],
   "source": [
    "O_list.clear()\n",
    "P_list.clear()  #we have cleared the both list by using clear() methode\n",
    "print(O_list)\n",
    "print(P_list)"
   ]
  },
  {
   "cell_type": "code",
   "execution_count": null,
   "id": "af8fd671-40d0-4b20-a468-79e95d6c68dd",
   "metadata": {},
   "outputs": [],
   "source": []
  }
 ],
 "metadata": {
  "kernelspec": {
   "display_name": "Python 3 (ipykernel)",
   "language": "python",
   "name": "python3"
  },
  "language_info": {
   "codemirror_mode": {
    "name": "ipython",
    "version": 3
   },
   "file_extension": ".py",
   "mimetype": "text/x-python",
   "name": "python",
   "nbconvert_exporter": "python",
   "pygments_lexer": "ipython3",
   "version": "3.12.7"
  }
 },
 "nbformat": 4,
 "nbformat_minor": 5
}
