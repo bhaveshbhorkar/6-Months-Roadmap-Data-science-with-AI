{
 "cells": [
  {
   "cell_type": "markdown",
   "id": "617da6f1",
   "metadata": {},
   "source": [
    "TUPLE CREATION"
   ]
  },
  {
   "cell_type": "code",
   "execution_count": 118,
   "id": "0c36a557",
   "metadata": {},
   "outputs": [
    {
     "name": "stdout",
     "output_type": "stream",
     "text": [
      "(1, 2, 3, 4)\n",
      "<class 'tuple'>\n"
     ]
    }
   ],
   "source": [
    "ti = (1,2,3,4) #created integer tuple\n",
    "print(ti)\n",
    "print(type(ti))"
   ]
  },
  {
   "cell_type": "code",
   "execution_count": 119,
   "id": "907aa4b8",
   "metadata": {},
   "outputs": [
    {
     "name": "stdout",
     "output_type": "stream",
     "text": [
      "(2.4, 5.5, 88.66)\n",
      "<class 'tuple'>\n"
     ]
    }
   ],
   "source": [
    "tf = (2.4,5.5,88.66) #created float tuple\n",
    "print(tf)\n",
    "print(type(tf))"
   ]
  },
  {
   "cell_type": "code",
   "execution_count": 120,
   "id": "9bba9422",
   "metadata": {},
   "outputs": [
    {
     "name": "stdout",
     "output_type": "stream",
     "text": [
      "('bhavesh', 88, 'hello', (50, 5.5), (55, 10))\n",
      "<class 'tuple'>\n"
     ]
    }
   ],
   "source": [
    "nt = ('bhavesh',88,'hello',(50,5.5),(55,10)) #created a nested tuple\n",
    "print(nt)\n",
    "print(type(nt))"
   ]
  },
  {
   "cell_type": "code",
   "execution_count": 121,
   "id": "fbf6e29e",
   "metadata": {},
   "outputs": [
    {
     "name": "stdout",
     "output_type": "stream",
     "text": [
      "(88, 8.8, 'bhavesh', False, True, (4+3j))\n",
      "<class 'tuple'>\n"
     ]
    }
   ],
   "source": [
    "mdt = (88,8.8,'bhavesh',False,True,3j+4) #created mixed data type tuple\n",
    "print(mdt)\n",
    "print(type(mdt))"
   ]
  },
  {
   "cell_type": "code",
   "execution_count": 122,
   "id": "94a93b96",
   "metadata": {},
   "outputs": [
    {
     "data": {
      "text/plain": [
       "6"
      ]
     },
     "execution_count": 122,
     "metadata": {},
     "output_type": "execute_result"
    }
   ],
   "source": [
    "len(mdt) #length of tuple"
   ]
  },
  {
   "cell_type": "markdown",
   "id": "b994acad",
   "metadata": {},
   "source": [
    "TUPLE INDEXING"
   ]
  },
  {
   "cell_type": "code",
   "execution_count": 123,
   "id": "39069968",
   "metadata": {},
   "outputs": [
    {
     "data": {
      "text/plain": [
       "88"
      ]
     },
     "execution_count": 123,
     "metadata": {},
     "output_type": "execute_result"
    }
   ],
   "source": [
    "mdt[0] #retreving 1st element of our tuple"
   ]
  },
  {
   "cell_type": "code",
   "execution_count": 124,
   "id": "7e2c7906",
   "metadata": {},
   "outputs": [
    {
     "data": {
      "text/plain": [
       "'b'"
      ]
     },
     "execution_count": 124,
     "metadata": {},
     "output_type": "execute_result"
    }
   ],
   "source": [
    "nt[0][0] #retreving the 1st character of tuple"
   ]
  },
  {
   "cell_type": "code",
   "execution_count": 125,
   "id": "bff95036",
   "metadata": {},
   "outputs": [
    {
     "data": {
      "text/plain": [
       "(55, 10)"
      ]
     },
     "execution_count": 125,
     "metadata": {},
     "output_type": "execute_result"
    }
   ],
   "source": [
    "nt[-1] #retreiving last iteam of tuple"
   ]
  },
  {
   "cell_type": "markdown",
   "id": "c0ed584a",
   "metadata": {},
   "source": [
    "TUPLE SLICING"
   ]
  },
  {
   "cell_type": "code",
   "execution_count": 126,
   "id": "65a17369",
   "metadata": {},
   "outputs": [],
   "source": [
    "tup = ('hi','hello','go','went','gone')\n"
   ]
  },
  {
   "cell_type": "code",
   "execution_count": 127,
   "id": "7ca85fc1",
   "metadata": {},
   "outputs": [
    {
     "data": {
      "text/plain": [
       "('hi', 'hello', 'go')"
      ]
     },
     "execution_count": 127,
     "metadata": {},
     "output_type": "execute_result"
    }
   ],
   "source": [
    "tup[0:3] #return iteam from 0th to 3rd index location"
   ]
  },
  {
   "cell_type": "code",
   "execution_count": 128,
   "id": "66b0dc01",
   "metadata": {},
   "outputs": [
    {
     "data": {
      "text/plain": [
       "('go', 'went')"
      ]
     },
     "execution_count": 128,
     "metadata": {},
     "output_type": "execute_result"
    }
   ],
   "source": [
    "tup[2:4] #return team/element from 2th to 4th index loc"
   ]
  },
  {
   "cell_type": "code",
   "execution_count": 129,
   "id": "1a455781",
   "metadata": {},
   "outputs": [
    {
     "data": {
      "text/plain": [
       "('hi', 'hello', 'go')"
      ]
     },
     "execution_count": 129,
     "metadata": {},
     "output_type": "execute_result"
    }
   ],
   "source": [
    "tup[:3] #return 1st 3 elements of tuple"
   ]
  },
  {
   "cell_type": "code",
   "execution_count": 130,
   "id": "6231c0c8",
   "metadata": {},
   "outputs": [
    {
     "data": {
      "text/plain": [
       "('hi', 'hello')"
      ]
     },
     "execution_count": 130,
     "metadata": {},
     "output_type": "execute_result"
    }
   ],
   "source": [
    "tup[:2] #returned 1st 2 elements from tuple"
   ]
  },
  {
   "cell_type": "code",
   "execution_count": 131,
   "id": "a3ef6688",
   "metadata": {},
   "outputs": [
    {
     "data": {
      "text/plain": [
       "('go', 'went', 'gone')"
      ]
     },
     "execution_count": 131,
     "metadata": {},
     "output_type": "execute_result"
    }
   ],
   "source": [
    "tup[ -3:] #last 3"
   ]
  },
  {
   "cell_type": "code",
   "execution_count": 132,
   "id": "a7882e69",
   "metadata": {},
   "outputs": [
    {
     "data": {
      "text/plain": [
       "('gone',)"
      ]
     },
     "execution_count": 132,
     "metadata": {},
     "output_type": "execute_result"
    }
   ],
   "source": [
    "tup[-1:] #last tuple element"
   ]
  },
  {
   "cell_type": "code",
   "execution_count": 133,
   "id": "8793cec8",
   "metadata": {},
   "outputs": [
    {
     "data": {
      "text/plain": [
       "('hi', 'hello', 'go', 'went', 'gone')"
      ]
     },
     "execution_count": 133,
     "metadata": {},
     "output_type": "execute_result"
    }
   ],
   "source": [
    "tup[:] #returned whole tuple"
   ]
  },
  {
   "cell_type": "markdown",
   "id": "51be715e",
   "metadata": {},
   "source": [
    "REMOVE AND CHANGE THE ITEAM "
   ]
  },
  {
   "cell_type": "code",
   "execution_count": 134,
   "id": "0a824117",
   "metadata": {},
   "outputs": [
    {
     "data": {
      "text/plain": [
       "('kick', 'back', 'bone', 'hardy', 'new', 'loct')"
      ]
     },
     "execution_count": 134,
     "metadata": {},
     "output_type": "execute_result"
    }
   ],
   "source": [
    "r = ('kick','back','bone','hardy','new','loct')\n",
    "r\n"
   ]
  },
  {
   "cell_type": "code",
   "execution_count": 135,
   "id": "c0555a67",
   "metadata": {},
   "outputs": [
    {
     "ename": "TypeError",
     "evalue": "'tuple' object doesn't support item deletion",
     "output_type": "error",
     "traceback": [
      "\u001b[1;31m---------------------------------------------------------------------------\u001b[0m",
      "\u001b[1;31mTypeError\u001b[0m                                 Traceback (most recent call last)",
      "Cell \u001b[1;32mIn[135], line 1\u001b[0m\n\u001b[1;32m----> 1\u001b[0m \u001b[38;5;28;01mdel\u001b[39;00m r[\u001b[38;5;241m0\u001b[39m]\n",
      "\u001b[1;31mTypeError\u001b[0m: 'tuple' object doesn't support item deletion"
     ]
    }
   ],
   "source": [
    "del r[0]  #its true we can make changes in tuple"
   ]
  },
  {
   "cell_type": "code",
   "execution_count": null,
   "id": "754f0b59",
   "metadata": {},
   "outputs": [],
   "source": [
    "del r #but at the same time we can delete entire tuple"
   ]
  },
  {
   "cell_type": "markdown",
   "id": "669cd3db",
   "metadata": {},
   "source": [
    "LOOP THROUGH TUPLE"
   ]
  },
  {
   "cell_type": "code",
   "execution_count": null,
   "id": "bc4567a4",
   "metadata": {},
   "outputs": [
    {
     "data": {
      "text/plain": [
       "('one', 'two', 'three', 'four', 'five', 'six', 'seven', 'eight')"
      ]
     },
     "execution_count": 105,
     "metadata": {},
     "output_type": "execute_result"
    }
   ],
   "source": [
    "t = ('one','two','three','four','five','six','seven','eight')\n",
    "t\n"
   ]
  },
  {
   "cell_type": "code",
   "execution_count": null,
   "id": "d798d5c0",
   "metadata": {},
   "outputs": [
    {
     "name": "stdout",
     "output_type": "stream",
     "text": [
      "('one', 'two', 'three', 'four', 'five', 'six', 'seven', 'eight')\n",
      "('one', 'two', 'three', 'four', 'five', 'six', 'seven', 'eight')\n",
      "('one', 'two', 'three', 'four', 'five', 'six', 'seven', 'eight')\n",
      "('one', 'two', 'three', 'four', 'five', 'six', 'seven', 'eight')\n",
      "('one', 'two', 'three', 'four', 'five', 'six', 'seven', 'eight')\n",
      "('one', 'two', 'three', 'four', 'five', 'six', 'seven', 'eight')\n",
      "('one', 'two', 'three', 'four', 'five', 'six', 'seven', 'eight')\n",
      "('one', 'two', 'three', 'four', 'five', 'six', 'seven', 'eight')\n"
     ]
    }
   ],
   "source": [
    "for i in t:\n",
    "    print(t)"
   ]
  },
  {
   "cell_type": "code",
   "execution_count": null,
   "id": "51f386e1",
   "metadata": {},
   "outputs": [
    {
     "name": "stdout",
     "output_type": "stream",
     "text": [
      "(0, 'one')\n",
      "(1, 'two')\n",
      "(2, 'three')\n",
      "(3, 'four')\n",
      "(4, 'five')\n",
      "(5, 'six')\n",
      "(6, 'seven')\n",
      "(7, 'eight')\n"
     ]
    }
   ],
   "source": [
    "for i in enumerate(t):\n",
    "    print(i)"
   ]
  },
  {
   "cell_type": "markdown",
   "id": "31a23d1e",
   "metadata": {},
   "source": [
    "TUPLE MEMBERSHIP"
   ]
  },
  {
   "cell_type": "code",
   "execution_count": 136,
   "id": "762dcfcd",
   "metadata": {},
   "outputs": [
    {
     "data": {
      "text/plain": [
       "('one', 'two', 'three', 'four', 'five', 'six', 'seven', 'eight')"
      ]
     },
     "execution_count": 136,
     "metadata": {},
     "output_type": "execute_result"
    }
   ],
   "source": [
    "g = ('one','two','three','four','five','six','seven','eight')\n",
    "g"
   ]
  },
  {
   "cell_type": "code",
   "execution_count": 138,
   "id": "39a27fe8",
   "metadata": {},
   "outputs": [
    {
     "data": {
      "text/plain": [
       "True"
      ]
     },
     "execution_count": 138,
     "metadata": {},
     "output_type": "execute_result"
    }
   ],
   "source": [
    "'one' in g #checked if 'one' is in the tuple"
   ]
  },
  {
   "cell_type": "code",
   "execution_count": 139,
   "id": "acd318ae",
   "metadata": {},
   "outputs": [
    {
     "data": {
      "text/plain": [
       "False"
      ]
     },
     "execution_count": 139,
     "metadata": {},
     "output_type": "execute_result"
    }
   ],
   "source": [
    "'twwnty' in g #checked if \"twn\" is in tuple or not"
   ]
  },
  {
   "cell_type": "code",
   "execution_count": 140,
   "id": "57fca891",
   "metadata": {},
   "outputs": [
    {
     "data": {
      "text/plain": [
       "True"
      ]
     },
     "execution_count": 140,
     "metadata": {},
     "output_type": "execute_result"
    }
   ],
   "source": [
    "'two' in g"
   ]
  },
  {
   "cell_type": "code",
   "execution_count": 142,
   "id": "2674281c",
   "metadata": {},
   "outputs": [
    {
     "name": "stdout",
     "output_type": "stream",
     "text": [
      "one is in my tuple\n"
     ]
    }
   ],
   "source": [
    "if 'one' in g :\n",
    "    print('one is in my tuple')\n",
    "\n",
    "else:\n",
    "    print('one is not in your tuple')"
   ]
  },
  {
   "cell_type": "code",
   "execution_count": 143,
   "id": "d3f3f8c3",
   "metadata": {},
   "outputs": [
    {
     "name": "stdout",
     "output_type": "stream",
     "text": [
      "yes u got that, two is your tuple\n"
     ]
    }
   ],
   "source": [
    "if 'two' in g:\n",
    "    print('yes u got that, two is your tuple')\n",
    "else:\n",
    "    print('better luck next time, two is not in your tuple')"
   ]
  },
  {
   "cell_type": "code",
   "execution_count": 144,
   "id": "2cd32628",
   "metadata": {},
   "outputs": [
    {
     "name": "stdout",
     "output_type": "stream",
     "text": [
      "its not there\n"
     ]
    }
   ],
   "source": [
    "if 'ten' in g:\n",
    "    print('yes it is in')\n",
    "else:\n",
    "    print('its not there')"
   ]
  },
  {
   "cell_type": "code",
   "execution_count": 147,
   "id": "134383d1",
   "metadata": {},
   "outputs": [
    {
     "name": "stdout",
     "output_type": "stream",
     "text": [
      "1\n",
      "3\n"
     ]
    }
   ],
   "source": [
    "print(g.index('two'))\n",
    "print(g.index('four'))"
   ]
  },
  {
   "cell_type": "code",
   "execution_count": 148,
   "id": "88d5a796",
   "metadata": {},
   "outputs": [
    {
     "name": "stdout",
     "output_type": "stream",
     "text": [
      "2\n"
     ]
    }
   ],
   "source": [
    "print(g.index('three'))"
   ]
  },
  {
   "cell_type": "markdown",
   "id": "2d5273ce",
   "metadata": {},
   "source": [
    "SORTING"
   ]
  },
  {
   "cell_type": "code",
   "execution_count": 149,
   "id": "99f44a37",
   "metadata": {},
   "outputs": [
    {
     "data": {
      "text/plain": [
       "(1, 5, 8, 692, 4, 4, 5, 7, 1, 63)"
      ]
     },
     "execution_count": 149,
     "metadata": {},
     "output_type": "execute_result"
    }
   ],
   "source": [
    "p = (1,5,8,692,4,4,5,7,1,63)\n",
    "p"
   ]
  },
  {
   "cell_type": "code",
   "execution_count": 153,
   "id": "7aee3314",
   "metadata": {},
   "outputs": [
    {
     "data": {
      "text/plain": [
       "[1, 1, 4, 4, 5, 5, 7, 8, 63, 692]"
      ]
     },
     "execution_count": 153,
     "metadata": {},
     "output_type": "execute_result"
    }
   ],
   "source": [
    "sorted(p)\n"
   ]
  },
  {
   "cell_type": "code",
   "execution_count": 154,
   "id": "0c11078e",
   "metadata": {},
   "outputs": [
    {
     "data": {
      "text/plain": [
       "[692, 63, 8, 7, 5, 5, 4, 4, 1, 1]"
      ]
     },
     "execution_count": 154,
     "metadata": {},
     "output_type": "execute_result"
    }
   ],
   "source": [
    "sorted(p,reverse=True)"
   ]
  },
  {
   "cell_type": "code",
   "execution_count": null,
   "id": "101f3960",
   "metadata": {},
   "outputs": [],
   "source": []
  }
 ],
 "metadata": {
  "kernelspec": {
   "display_name": "base",
   "language": "python",
   "name": "python3"
  },
  "language_info": {
   "codemirror_mode": {
    "name": "ipython",
    "version": 3
   },
   "file_extension": ".py",
   "mimetype": "text/x-python",
   "name": "python",
   "nbconvert_exporter": "python",
   "pygments_lexer": "ipython3",
   "version": "3.12.7"
  }
 },
 "nbformat": 4,
 "nbformat_minor": 5
}
