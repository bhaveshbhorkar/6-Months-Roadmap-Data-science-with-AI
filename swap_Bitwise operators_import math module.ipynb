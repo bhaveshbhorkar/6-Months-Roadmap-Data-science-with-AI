{
 "cells": [
  {
   "cell_type": "markdown",
   "id": "1fea7906-bfa5-482f-9e05-280cc8247fa8",
   "metadata": {},
   "source": [
    "Number System Conversion :- Binary (Base Val-2) ==0b,\n",
    "Octal(Base val-8)==0o,\n",
    "Decimal(Base val -10)==0x,\n",
    "Hexadecimal(Base val-16)==0xabcdef"
   ]
  },
  {
   "cell_type": "code",
   "execution_count": 1,
   "id": "34160e0d-17b3-4e4c-b770-82624e174f31",
   "metadata": {},
   "outputs": [
    {
     "data": {
      "text/plain": [
       "'0b11001'"
      ]
     },
     "execution_count": 1,
     "metadata": {},
     "output_type": "execute_result"
    }
   ],
   "source": [
    "bin(25) #int to Binary"
   ]
  },
  {
   "cell_type": "markdown",
   "id": "732fe0fc-6697-4db1-a833-e914abdd4f2c",
   "metadata": {},
   "source": [
    "Q1)   . how to swap 2 variables"
   ]
  },
  {
   "cell_type": "code",
   "execution_count": 3,
   "id": "0799739c-f5a9-4fe1-be6c-cfb527892e3c",
   "metadata": {},
   "outputs": [],
   "source": [
    "a1 = 7\n",
    "b1 = 8"
   ]
  },
  {
   "cell_type": "code",
   "execution_count": 4,
   "id": "8ef511dd-b269-4638-874e-dea5b388ca64",
   "metadata": {},
   "outputs": [],
   "source": [
    "temp = a1\n",
    "a1 = b1\n",
    "b1 = temp"
   ]
  },
  {
   "cell_type": "code",
   "execution_count": 5,
   "id": "b87fcd45-553c-4910-8c2f-61950ed07b7b",
   "metadata": {},
   "outputs": [
    {
     "name": "stdout",
     "output_type": "stream",
     "text": [
      "8\n",
      "7\n"
     ]
    }
   ],
   "source": [
    "print(a1)\n",
    "print(b1)"
   ]
  },
  {
   "cell_type": "code",
   "execution_count": 11,
   "id": "5340047b-4fee-457b-a62f-6489f095900c",
   "metadata": {},
   "outputs": [],
   "source": [
    "v1 = 5\n",
    "b1 = 6"
   ]
  },
  {
   "cell_type": "code",
   "execution_count": 35,
   "id": "2055be07-d2c2-4af8-bf38-cf85af887414",
   "metadata": {},
   "outputs": [],
   "source": [
    "v1 = v1 + b1 # 5+6 = 11              without 3rd variable\n",
    "b1 = v1 - b1 # 11-6 = 5\n",
    "v1 = v1 - b1 # 11-5 = 6\n"
   ]
  },
  {
   "cell_type": "code",
   "execution_count": 13,
   "id": "e7746f5b-81ec-4b90-b2ef-2a93e4c2abce",
   "metadata": {},
   "outputs": [
    {
     "name": "stdout",
     "output_type": "stream",
     "text": [
      "6\n",
      "5\n"
     ]
    }
   ],
   "source": [
    "print(v1)\n",
    "print(b1)"
   ]
  },
  {
   "cell_type": "code",
   "execution_count": 14,
   "id": "03e65de9-00d8-4476-b52c-c42ef82370e0",
   "metadata": {},
   "outputs": [],
   "source": [
    "g1 = 89\n",
    "g2 = 99"
   ]
  },
  {
   "cell_type": "code",
   "execution_count": 15,
   "id": "e92ba783-6063-4ded-98f9-0f61f6d406e6",
   "metadata": {},
   "outputs": [],
   "source": [
    "g1 = g1+g2\n",
    "g2 = g1-g2\n",
    "g1 = g1-g2\n"
   ]
  },
  {
   "cell_type": "code",
   "execution_count": 16,
   "id": "b5029ac3-bcdb-4b0d-98d0-884679689784",
   "metadata": {},
   "outputs": [
    {
     "name": "stdout",
     "output_type": "stream",
     "text": [
      "99\n",
      "89\n"
     ]
    }
   ],
   "source": [
    "print(g1)\n",
    "print(g2)"
   ]
  },
  {
   "cell_type": "code",
   "execution_count": 31,
   "id": "e2b460b0-fd06-48ef-9ec6-aa4c837bc487",
   "metadata": {},
   "outputs": [],
   "source": [
    "h1 = 55\n",
    "h2 = 66"
   ]
  },
  {
   "cell_type": "code",
   "execution_count": 32,
   "id": "a6441379-150a-48f8-a8ac-cece4597a900",
   "metadata": {},
   "outputs": [],
   "source": [
    "h1 = h1+h2\n",
    "h2 = h1-h2 \n",
    "h1 = h1-h2"
   ]
  },
  {
   "cell_type": "code",
   "execution_count": 33,
   "id": "61c3b651-ac7b-4ee8-9359-a90393406467",
   "metadata": {},
   "outputs": [
    {
     "name": "stdout",
     "output_type": "stream",
     "text": [
      "66\n",
      "55\n"
     ]
    }
   ],
   "source": [
    "print(h1)\n",
    "print(h2)"
   ]
  },
  {
   "cell_type": "code",
   "execution_count": 36,
   "id": "14072c52-77f4-4ba0-943e-17714070303b",
   "metadata": {},
   "outputs": [],
   "source": [
    "h1 , h2 = h2 , h1"
   ]
  },
  {
   "cell_type": "code",
   "execution_count": 37,
   "id": "82729ef1-adb2-4419-ae1d-e8307da5b33e",
   "metadata": {},
   "outputs": [
    {
     "name": "stdout",
     "output_type": "stream",
     "text": [
      "55\n",
      "66\n"
     ]
    }
   ],
   "source": [
    "print(h1)\n",
    "print(h2)"
   ]
  },
  {
   "cell_type": "code",
   "execution_count": 38,
   "id": "fa2df7c2-9b96-4ae1-8264-d18f891397d4",
   "metadata": {},
   "outputs": [],
   "source": [
    "x1 = 66\n",
    "x2 = 55"
   ]
  },
  {
   "cell_type": "code",
   "execution_count": 39,
   "id": "d05881b9-fc91-4e9e-8643-5d58316cf682",
   "metadata": {},
   "outputs": [],
   "source": [
    "x1 , x2 = x2 , x1"
   ]
  },
  {
   "cell_type": "code",
   "execution_count": 40,
   "id": "c96c2442-b9eb-491e-8acb-2b741f8bff6a",
   "metadata": {},
   "outputs": [
    {
     "name": "stdout",
     "output_type": "stream",
     "text": [
      "55\n",
      "66\n"
     ]
    }
   ],
   "source": [
    "print(x1)\n",
    "print(x2)"
   ]
  },
  {
   "cell_type": "code",
   "execution_count": 2,
   "id": "9bacad6d-201c-4ab9-bff3-84a8f83d2bfa",
   "metadata": {},
   "outputs": [],
   "source": [
    "b1 = 90\n",
    "b2 = 80"
   ]
  },
  {
   "cell_type": "code",
   "execution_count": 3,
   "id": "85ac4994-7fb3-40da-9551-1c9a9662a30d",
   "metadata": {},
   "outputs": [],
   "source": [
    "b1 , b2 = b2 , b1"
   ]
  },
  {
   "cell_type": "code",
   "execution_count": 4,
   "id": "c4c696dc-84cd-4e0c-bd7d-d60ae4da5c30",
   "metadata": {},
   "outputs": [
    {
     "name": "stdout",
     "output_type": "stream",
     "text": [
      "80\n",
      "90\n"
     ]
    }
   ],
   "source": [
    "print(b1)\n",
    "print(b2)"
   ]
  },
  {
   "cell_type": "code",
   "execution_count": 5,
   "id": "390a65bf-303a-4ec3-b278-cd739b5d0976",
   "metadata": {},
   "outputs": [],
   "source": [
    "n1 = 100\n",
    "n2 = 90\n",
    "n3 = 80"
   ]
  },
  {
   "cell_type": "code",
   "execution_count": 6,
   "id": "7dd9265e-004d-43af-8617-e4d6be855ed5",
   "metadata": {},
   "outputs": [],
   "source": [
    "n1 , n2 , n3 = n3 , n2 , n1"
   ]
  },
  {
   "cell_type": "code",
   "execution_count": 7,
   "id": "8c02cf5b-739d-4a59-b7d0-4446eb6d573e",
   "metadata": {},
   "outputs": [
    {
     "name": "stdout",
     "output_type": "stream",
     "text": [
      "80\n",
      "90\n",
      "100\n"
     ]
    }
   ],
   "source": [
    "print(n1)\n",
    "print(n2)\n",
    "print(n3)"
   ]
  },
  {
   "cell_type": "markdown",
   "id": "8bc5c2d0-8f07-46a3-ba8f-cce324454667",
   "metadata": {},
   "source": []
  },
  {
   "cell_type": "markdown",
   "id": "0c0a54de-ffb8-4a21-baca-f0a64b3f6ca0",
   "metadata": {},
   "source": [
    " --- Bitwise Operator :- Complement ~ ,    and &   , or |   , Xor ^   , left shift <<    , right shift >> --"
   ]
  },
  {
   "cell_type": "markdown",
   "id": "18b213a6-7ab0-4ecf-8da9-8419901fdaf8",
   "metadata": {},
   "source": [
    "1. Complement : we will get this key below ECS character in keybrd"
   ]
  },
  {
   "cell_type": "code",
   "execution_count": 10,
   "id": "1237927b-5c76-4bf8-b45e-d9c686569531",
   "metadata": {},
   "outputs": [],
   "source": [
    "a = ~12 #by this comp(bitwise) we can store negative value"
   ]
  },
  {
   "cell_type": "code",
   "execution_count": 9,
   "id": "4295a2dd-5cfd-485b-b132-82aabcdcd64b",
   "metadata": {},
   "outputs": [
    {
     "data": {
      "text/plain": [
       "-13"
      ]
     },
     "execution_count": 9,
     "metadata": {},
     "output_type": "execute_result"
    }
   ],
   "source": [
    "a"
   ]
  },
  {
   "cell_type": "code",
   "execution_count": 11,
   "id": "6f89227d-5407-4f67-ad1d-bf199d855169",
   "metadata": {},
   "outputs": [],
   "source": [
    "b = ~45"
   ]
  },
  {
   "cell_type": "code",
   "execution_count": 12,
   "id": "7e51ccdf-9d4a-41a0-b992-72dbb0aed9e6",
   "metadata": {},
   "outputs": [
    {
     "data": {
      "text/plain": [
       "-46"
      ]
     },
     "execution_count": 12,
     "metadata": {},
     "output_type": "execute_result"
    }
   ],
   "source": [
    "b"
   ]
  },
  {
   "cell_type": "code",
   "execution_count": 15,
   "id": "fea1be04-e613-4adb-83cf-f0542fdef01d",
   "metadata": {},
   "outputs": [],
   "source": [
    "c = ~-6 #by using minus value in complement it will give output in +ve value by 0-1 by subtracting 1"
   ]
  },
  {
   "cell_type": "code",
   "execution_count": 14,
   "id": "7ca645aa-cb53-4b69-ac85-43509bfcf6f6",
   "metadata": {},
   "outputs": [
    {
     "data": {
      "text/plain": [
       "5"
      ]
     },
     "execution_count": 14,
     "metadata": {},
     "output_type": "execute_result"
    }
   ],
   "source": [
    "c"
   ]
  },
  {
   "cell_type": "code",
   "execution_count": 16,
   "id": "134d64c4-e1da-49ff-a88c-5cc3eaca0914",
   "metadata": {},
   "outputs": [
    {
     "data": {
      "text/plain": [
       "0"
      ]
     },
     "execution_count": 16,
     "metadata": {},
     "output_type": "execute_result"
    }
   ],
   "source": [
    "~-1"
   ]
  },
  {
   "cell_type": "markdown",
   "id": "7e5aefc2-91d9-466f-a86c-ec5bbcce72d3",
   "metadata": {},
   "source": [
    "2. AND, OR operator : logical/Bit wise operator"
   ]
  },
  {
   "cell_type": "code",
   "execution_count": 17,
   "id": "eda254dd-00a5-4dc5-8b66-d8719e4737b9",
   "metadata": {},
   "outputs": [
    {
     "data": {
      "text/plain": [
       "12"
      ]
     },
     "execution_count": 17,
     "metadata": {},
     "output_type": "execute_result"
    }
   ],
   "source": [
    "12 & 13"
   ]
  },
  {
   "cell_type": "code",
   "execution_count": 18,
   "id": "cc7eec2a-0b77-46b6-8a28-ddac4333f18f",
   "metadata": {},
   "outputs": [
    {
     "data": {
      "text/plain": [
       "1"
      ]
     },
     "execution_count": 18,
     "metadata": {},
     "output_type": "execute_result"
    }
   ],
   "source": [
    " 1 & 1"
   ]
  },
  {
   "cell_type": "code",
   "execution_count": 19,
   "id": "5e46ef53-04e0-428d-8bd0-c3c55b4cae99",
   "metadata": {},
   "outputs": [
    {
     "data": {
      "text/plain": [
       "0"
      ]
     },
     "execution_count": 19,
     "metadata": {},
     "output_type": "execute_result"
    }
   ],
   "source": [
    "0 & 0"
   ]
  },
  {
   "cell_type": "code",
   "execution_count": 20,
   "id": "5b28e0ee-d8a9-41d0-839a-b5119b50baa1",
   "metadata": {},
   "outputs": [
    {
     "data": {
      "text/plain": [
       "13"
      ]
     },
     "execution_count": 20,
     "metadata": {},
     "output_type": "execute_result"
    }
   ],
   "source": [
    "12 | 13"
   ]
  },
  {
   "cell_type": "code",
   "execution_count": 21,
   "id": "2d66a7bf-fc70-429b-9556-1002c36c345a",
   "metadata": {},
   "outputs": [
    {
     "data": {
      "text/plain": [
       "1"
      ]
     },
     "execution_count": 21,
     "metadata": {},
     "output_type": "execute_result"
    }
   ],
   "source": [
    "1 | 0"
   ]
  },
  {
   "cell_type": "code",
   "execution_count": 22,
   "id": "0a5a5d25-6c55-47b0-b950-44ccb6fc9850",
   "metadata": {},
   "outputs": [
    {
     "data": {
      "text/plain": [
       "0"
      ]
     },
     "execution_count": 22,
     "metadata": {},
     "output_type": "execute_result"
    }
   ],
   "source": [
    "1 & 0"
   ]
  },
  {
   "cell_type": "code",
   "execution_count": 23,
   "id": "b7d0f936-924c-4a7d-acab-b4f6e04fea09",
   "metadata": {},
   "outputs": [
    {
     "data": {
      "text/plain": [
       "43"
      ]
     },
     "execution_count": 23,
     "metadata": {},
     "output_type": "execute_result"
    }
   ],
   "source": [
    "35 | 40"
   ]
  },
  {
   "cell_type": "code",
   "execution_count": 30,
   "id": "3ca93c73-c513-4acf-9046-7bdd2b7fa6c9",
   "metadata": {},
   "outputs": [
    {
     "name": "stdout",
     "output_type": "stream",
     "text": [
      "0b100011\n",
      "0b101000\n"
     ]
    }
   ],
   "source": [
    "35 & 40\n",
    "print(bin(35)) ## after checking the bit value after that do operation on the bit value with the logic of AND operator and the add the zero after 2 and ,multiply 2 as many times as zero(0) comes\n",
    "print(bin(40))  # 2x2x2x2x2 = 32"
   ]
  },
  {
   "cell_type": "code",
   "execution_count": 31,
   "id": "1ebc61a0-e131-4a40-a938-800b2d231fd8",
   "metadata": {},
   "outputs": [
    {
     "data": {
      "text/plain": [
       "32"
      ]
     },
     "execution_count": 31,
     "metadata": {},
     "output_type": "execute_result"
    }
   ],
   "source": [
    "35 & 40"
   ]
  },
  {
   "cell_type": "markdown",
   "id": "d5f8ae0a-cd9d-4a10-91c4-87f9641abca9",
   "metadata": {},
   "source": [
    "3. Xor"
   ]
  },
  {
   "cell_type": "code",
   "execution_count": 32,
   "id": "83f05d22-77ac-4300-8617-a2b7843155b3",
   "metadata": {},
   "outputs": [
    {
     "data": {
      "text/plain": [
       "1"
      ]
     },
     "execution_count": 32,
     "metadata": {},
     "output_type": "execute_result"
    }
   ],
   "source": [
    "12 ^ 13"
   ]
  },
  {
   "cell_type": "code",
   "execution_count": 33,
   "id": "97e66ded-2f4c-4a78-acfe-431220e5ffb5",
   "metadata": {},
   "outputs": [
    {
     "data": {
      "text/plain": [
       "7"
      ]
     },
     "execution_count": 33,
     "metadata": {},
     "output_type": "execute_result"
    }
   ],
   "source": [
    "25 ^ 30"
   ]
  },
  {
   "cell_type": "markdown",
   "id": "95214627-38d9-48d6-ab33-411d6cb9da4c",
   "metadata": {},
   "source": [
    "4. Left shift operator : bydefault you will take 2 zeros()\n",
    "   10 binary operator is 1010 / also we can say 1010\n",
    "5. right we loose the bit"
   ]
  },
  {
   "cell_type": "code",
   "execution_count": 39,
   "id": "eaaa27a8-905e-4ac4-a639-cc1d4c03ff43",
   "metadata": {},
   "outputs": [
    {
     "data": {
      "text/plain": [
       "80"
      ]
     },
     "execution_count": 39,
     "metadata": {},
     "output_type": "execute_result"
    }
   ],
   "source": [
    "20 << 1"
   ]
  },
  {
   "cell_type": "code",
   "execution_count": 41,
   "id": "67dac76a-c9f9-4d3c-b7aa-843ea0fcf68d",
   "metadata": {},
   "outputs": [
    {
     "data": {
      "text/plain": [
       "'0b10100'"
      ]
     },
     "execution_count": 41,
     "metadata": {},
     "output_type": "execute_result"
    }
   ],
   "source": [
    "bin(20)"
   ]
  },
  {
   "cell_type": "code",
   "execution_count": 44,
   "id": "4eba419c-3d49-4f8c-9e8e-3ba48f647dc6",
   "metadata": {},
   "outputs": [
    {
     "data": {
      "text/plain": [
       "120"
      ]
     },
     "execution_count": 44,
     "metadata": {},
     "output_type": "execute_result"
    }
   ],
   "source": [
    "30 << 2"
   ]
  },
  {
   "cell_type": "code",
   "execution_count": 45,
   "id": "2c792f2f-5a73-4964-8e7a-39c22d938cb7",
   "metadata": {},
   "outputs": [
    {
     "data": {
      "text/plain": [
       "7"
      ]
     },
     "execution_count": 45,
     "metadata": {},
     "output_type": "execute_result"
    }
   ],
   "source": [
    "30 >> 2"
   ]
  },
  {
   "cell_type": "code",
   "execution_count": 46,
   "id": "fc4f0b54-0b83-4eee-9576-6849e7d79589",
   "metadata": {},
   "outputs": [
    {
     "data": {
      "text/plain": [
       "5"
      ]
     },
     "execution_count": 46,
     "metadata": {},
     "output_type": "execute_result"
    }
   ],
   "source": [
    "40 >> 3"
   ]
  },
  {
   "cell_type": "markdown",
   "id": "5d111cd9-cd52-4647-8408-142b65c80ddf",
   "metadata": {},
   "source": [
    "   ----Import Math Module----"
   ]
  },
  {
   "cell_type": "code",
   "execution_count": 48,
   "id": "808038df-122f-4b19-9358-7500f1843efd",
   "metadata": {},
   "outputs": [],
   "source": [
    "import math"
   ]
  },
  {
   "cell_type": "code",
   "execution_count": 51,
   "id": "ad9c70ed-6b71-450d-a328-2e890cbc1668",
   "metadata": {},
   "outputs": [
    {
     "data": {
      "text/plain": [
       "5.0"
      ]
     },
     "execution_count": 51,
     "metadata": {},
     "output_type": "execute_result"
    }
   ],
   "source": [
    "x = math.sqrt(25)\n",
    "x"
   ]
  },
  {
   "cell_type": "code",
   "execution_count": 56,
   "id": "376492b6-3967-4ffc-afef-7c64c44e2f61",
   "metadata": {},
   "outputs": [
    {
     "data": {
      "text/plain": [
       "8"
      ]
     },
     "execution_count": 56,
     "metadata": {},
     "output_type": "execute_result"
    }
   ],
   "source": [
    "math.floor(8.9) # floor means down/Least value"
   ]
  },
  {
   "cell_type": "code",
   "execution_count": 58,
   "id": "a43d3723-8219-4260-9bea-72e90df211a5",
   "metadata": {},
   "outputs": [
    {
     "data": {
      "text/plain": [
       "9"
      ]
     },
     "execution_count": 58,
     "metadata": {},
     "output_type": "execute_result"
    }
   ],
   "source": [
    "math.ceil(8.3)"
   ]
  },
  {
   "cell_type": "code",
   "execution_count": 62,
   "id": "24e255dc-f27d-4d45-9109-318da582caa9",
   "metadata": {},
   "outputs": [
    {
     "data": {
      "text/plain": [
       "9"
      ]
     },
     "execution_count": 62,
     "metadata": {},
     "output_type": "execute_result"
    }
   ],
   "source": [
    "math.ceil(9.0) #maximum value"
   ]
  },
  {
   "cell_type": "code",
   "execution_count": 64,
   "id": "14b9fe08-0296-4169-ae83-126b4d069c05",
   "metadata": {},
   "outputs": [
    {
     "data": {
      "text/plain": [
       "3.0"
      ]
     },
     "execution_count": 64,
     "metadata": {},
     "output_type": "execute_result"
    }
   ],
   "source": [
    "math.pow(3,1)"
   ]
  },
  {
   "cell_type": "code",
   "execution_count": 68,
   "id": "1f3e5284-70a7-47ba-80de-50bf74401447",
   "metadata": {},
   "outputs": [
    {
     "data": {
      "text/plain": [
       "16.0"
      ]
     },
     "execution_count": 68,
     "metadata": {},
     "output_type": "execute_result"
    }
   ],
   "source": [
    "math.pow(4,2) # in this we will give pow to 4 that will be taken as 4x4, 2times 4"
   ]
  },
  {
   "cell_type": "code",
   "execution_count": 73,
   "id": "e2609aef-bba4-456b-afe0-aed5804ec551",
   "metadata": {},
   "outputs": [
    {
     "data": {
      "text/plain": [
       "2.718281828459045"
      ]
     },
     "execution_count": 73,
     "metadata": {},
     "output_type": "execute_result"
    }
   ],
   "source": [
    "math.e #e has constant value"
   ]
  },
  {
   "cell_type": "code",
   "execution_count": 74,
   "id": "bc82ee80-e2b1-4f24-b7f8-406c0025764d",
   "metadata": {},
   "outputs": [],
   "source": [
    "# we will make it short by (import math as m)"
   ]
  },
  {
   "cell_type": "code",
   "execution_count": 2,
   "id": "603622ea-5382-48e2-a915-95002e2d63f8",
   "metadata": {},
   "outputs": [],
   "source": [
    "import math as m "
   ]
  },
  {
   "cell_type": "code",
   "execution_count": 76,
   "id": "5019be99-ac60-47dc-befe-a1664bd2052b",
   "metadata": {},
   "outputs": [
    {
     "data": {
      "text/plain": [
       "2.718281828459045"
      ]
     },
     "execution_count": 76,
     "metadata": {},
     "output_type": "execute_result"
    }
   ],
   "source": [
    "m.e #constant values"
   ]
  },
  {
   "cell_type": "code",
   "execution_count": 77,
   "id": "fba98882-63fe-44e5-8289-b6278d81feea",
   "metadata": {},
   "outputs": [
    {
     "data": {
      "text/plain": [
       "64.0"
      ]
     },
     "execution_count": 77,
     "metadata": {},
     "output_type": "execute_result"
    }
   ],
   "source": [
    "m.pow(8,2)"
   ]
  },
  {
   "cell_type": "code",
   "execution_count": 4,
   "id": "3e5a831d-f7bd-4e93-82ec-87b2221795a8",
   "metadata": {},
   "outputs": [
    {
     "data": {
      "text/plain": [
       "3.141592653589793"
      ]
     },
     "execution_count": 4,
     "metadata": {},
     "output_type": "execute_result"
    }
   ],
   "source": [
    "m.pi #constant values"
   ]
  },
  {
   "cell_type": "code",
   "execution_count": null,
   "id": "3623741c-60cb-4b4d-a3f3-184e87174278",
   "metadata": {},
   "outputs": [],
   "source": []
  },
  {
   "cell_type": "code",
   "execution_count": null,
   "id": "68ed3962-dc01-4889-939b-d4e234664036",
   "metadata": {},
   "outputs": [],
   "source": []
  },
  {
   "cell_type": "code",
   "execution_count": null,
   "id": "dbae2c9a-fa77-408c-90c8-9963342c23f9",
   "metadata": {},
   "outputs": [],
   "source": []
  },
  {
   "cell_type": "code",
   "execution_count": null,
   "id": "28753ffc-3d38-41b6-a768-a82caa571a31",
   "metadata": {},
   "outputs": [],
   "source": []
  },
  {
   "cell_type": "code",
   "execution_count": null,
   "id": "c2714efc-697f-45ae-93ce-33475e2813f7",
   "metadata": {},
   "outputs": [],
   "source": []
  }
 ],
 "metadata": {
  "kernelspec": {
   "display_name": "Python 3 (ipykernel)",
   "language": "python",
   "name": "python3"
  },
  "language_info": {
   "codemirror_mode": {
    "name": "ipython",
    "version": 3
   },
   "file_extension": ".py",
   "mimetype": "text/x-python",
   "name": "python",
   "nbconvert_exporter": "python",
   "pygments_lexer": "ipython3",
   "version": "3.12.7"
  }
 },
 "nbformat": 4,
 "nbformat_minor": 5
}
