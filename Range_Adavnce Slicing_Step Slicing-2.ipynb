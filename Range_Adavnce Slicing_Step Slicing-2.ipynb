{
 "cells": [
  {
   "cell_type": "markdown",
   "id": "748f3531",
   "metadata": {},
   "source": [
    "Range"
   ]
  },
  {
   "cell_type": "code",
   "execution_count": null,
   "id": "d50af6f4",
   "metadata": {},
   "outputs": [
    {
     "data": {
      "text/plain": [
       "[10, 13, 16, 19]"
      ]
     },
     "execution_count": 18,
     "metadata": {},
     "output_type": "execute_result"
    }
   ],
   "source": [
    "list(range(10,20,3)) #in this we have asked range from 10 to 20 by adding 3 in 10 and we got uptil 19 bcz n-1."
   ]
  },
  {
   "cell_type": "code",
   "execution_count": null,
   "id": "b957b9db",
   "metadata": {},
   "outputs": [
    {
     "data": {
      "text/plain": [
       "[10, 20, 30, 40]"
      ]
     },
     "execution_count": 14,
     "metadata": {},
     "output_type": "execute_result"
    }
   ],
   "source": [
    "list(range(10,50,10))  #in this we have asked range from 10 to 50 by adding 10 in 10 and we got uptil 40 bcz n-1."
   ]
  },
  {
   "cell_type": "code",
   "execution_count": 15,
   "id": "d7c7cae1",
   "metadata": {},
   "outputs": [
    {
     "data": {
      "text/plain": [
       "[50, 55, 60, 65]"
      ]
     },
     "execution_count": 15,
     "metadata": {},
     "output_type": "execute_result"
    }
   ],
   "source": [
    "list(range(50,70,5))"
   ]
  },
  {
   "cell_type": "code",
   "execution_count": 16,
   "id": "065fc5e9",
   "metadata": {},
   "outputs": [
    {
     "data": {
      "text/plain": [
       "[90, 95, 100, 105, 110]"
      ]
     },
     "execution_count": 16,
     "metadata": {},
     "output_type": "execute_result"
    }
   ],
   "source": [
    "list(range(90,115,5))"
   ]
  },
  {
   "cell_type": "code",
   "execution_count": 17,
   "id": "3fe40ecb",
   "metadata": {},
   "outputs": [
    {
     "data": {
      "text/plain": [
       "[0, 3, 6, 9]"
      ]
     },
     "execution_count": 17,
     "metadata": {},
     "output_type": "execute_result"
    }
   ],
   "source": [
    "list(range(0,10,3))"
   ]
  },
  {
   "cell_type": "code",
   "execution_count": 20,
   "id": "8e78bcbc",
   "metadata": {},
   "outputs": [
    {
     "data": {
      "text/plain": [
       "range(0, 11, 5)"
      ]
     },
     "execution_count": 20,
     "metadata": {},
     "output_type": "execute_result"
    }
   ],
   "source": [
    "t = range(0,11,5)\n",
    "t"
   ]
  },
  {
   "cell_type": "code",
   "execution_count": 21,
   "id": "206ab901",
   "metadata": {},
   "outputs": [
    {
     "name": "stdout",
     "output_type": "stream",
     "text": [
      "0\n",
      "5\n",
      "10\n"
     ]
    }
   ],
   "source": [
    "for i in t:\n",
    "    print(i)"
   ]
  },
  {
   "cell_type": "code",
   "execution_count": 23,
   "id": "1cfe01d9",
   "metadata": {},
   "outputs": [
    {
     "data": {
      "text/plain": [
       "[0, 5, 10]"
      ]
     },
     "execution_count": 23,
     "metadata": {},
     "output_type": "execute_result"
    }
   ],
   "source": [
    "list(t)"
   ]
  },
  {
   "cell_type": "markdown",
   "id": "ee4ec518",
   "metadata": {},
   "source": [
    "Advance Slicing"
   ]
  },
  {
   "cell_type": "code",
   "execution_count": 25,
   "id": "bfb6968b",
   "metadata": {},
   "outputs": [
    {
     "data": {
      "text/plain": [
       "[20, 30, True, '96+4j', 'a', 'b', 'c', 2.55]"
      ]
     },
     "execution_count": 25,
     "metadata": {},
     "output_type": "execute_result"
    }
   ],
   "source": [
    "h = [20,30,True,\"96+4j\",'a','b','c',2.55]\n",
    "h"
   ]
  },
  {
   "cell_type": "code",
   "execution_count": 26,
   "id": "144c7470",
   "metadata": {},
   "outputs": [
    {
     "data": {
      "text/plain": [
       "[20, 30, True, '96+4j', 'a', 'b', 'c', 2.55]"
      ]
     },
     "execution_count": 26,
     "metadata": {},
     "output_type": "execute_result"
    }
   ],
   "source": [
    "h[:]"
   ]
  },
  {
   "cell_type": "code",
   "execution_count": null,
   "id": "be3a6920",
   "metadata": {},
   "outputs": [
    {
     "data": {
      "text/plain": [
       "['96+4j', 'a', 'b', 'c', 2.55]"
      ]
     },
     "execution_count": 30,
     "metadata": {},
     "output_type": "execute_result"
    }
   ],
   "source": [
    "h[3:] #in this argument we've done the forward indexing so it will print 3rd index to last"
   ]
  },
  {
   "cell_type": "code",
   "execution_count": 31,
   "id": "bd8bc62e",
   "metadata": {},
   "outputs": [
    {
     "data": {
      "text/plain": [
       "['96+4j', 'a', 'b', 'c', 2.55]"
      ]
     },
     "execution_count": 31,
     "metadata": {},
     "output_type": "execute_result"
    }
   ],
   "source": [
    "h[-5:] #in this argument we've done the backward indexing so it will print from -5th index to last"
   ]
  },
  {
   "cell_type": "markdown",
   "id": "ecbbeda2",
   "metadata": {},
   "source": [
    "Step Slicing"
   ]
  },
  {
   "cell_type": "code",
   "execution_count": 32,
   "id": "84dc2e0d",
   "metadata": {},
   "outputs": [
    {
     "data": {
      "text/plain": [
       "[20, 30, True, '96+4j', 'a', 'b', 'c', 2.55]"
      ]
     },
     "execution_count": 32,
     "metadata": {},
     "output_type": "execute_result"
    }
   ],
   "source": [
    "h"
   ]
  },
  {
   "cell_type": "code",
   "execution_count": null,
   "id": "1d616439",
   "metadata": {},
   "outputs": [
    {
     "data": {
      "text/plain": [
       "[True, '96+4j', 'a', 'b']"
      ]
     },
     "execution_count": 33,
     "metadata": {},
     "output_type": "execute_result"
    }
   ],
   "source": [
    "h[2:6] #by this argument we will get elements from 2nd index to 6th index(n-1,6-1=uptil 5th index)"
   ]
  },
  {
   "cell_type": "code",
   "execution_count": 36,
   "id": "d8908d5f",
   "metadata": {},
   "outputs": [
    {
     "data": {
      "text/plain": [
       "['96+4j', 'a', 'b', 'c', 2.55]"
      ]
     },
     "execution_count": 36,
     "metadata": {},
     "output_type": "execute_result"
    }
   ],
   "source": [
    "h[3:9]"
   ]
  },
  {
   "cell_type": "code",
   "execution_count": 39,
   "id": "c4e91b58",
   "metadata": {},
   "outputs": [
    {
     "data": {
      "text/plain": [
       "[True, '96+4j', 'a', 'b', 'c']"
      ]
     },
     "execution_count": 39,
     "metadata": {},
     "output_type": "execute_result"
    }
   ],
   "source": [
    "h[2:7] #7-1=6th index"
   ]
  },
  {
   "cell_type": "code",
   "execution_count": 40,
   "id": "024ec66d",
   "metadata": {},
   "outputs": [
    {
     "data": {
      "text/plain": [
       "[20, 30, True, '96+4j', 'a', 'b', 'c', 2.55]"
      ]
     },
     "execution_count": 40,
     "metadata": {},
     "output_type": "execute_result"
    }
   ],
   "source": [
    "h"
   ]
  },
  {
   "cell_type": "code",
   "execution_count": null,
   "id": "2a436c75",
   "metadata": {},
   "outputs": [
    {
     "data": {
      "text/plain": [
       "[True, 'a', 'c']"
      ]
     },
     "execution_count": 41,
     "metadata": {},
     "output_type": "execute_result"
    }
   ],
   "source": [
    "h[2:7:2]  "
   ]
  },
  {
   "cell_type": "code",
   "execution_count": 42,
   "id": "7f1bb9fb",
   "metadata": {},
   "outputs": [
    {
     "data": {
      "text/plain": [
       "[30, '96+4j', 'b']"
      ]
     },
     "execution_count": 42,
     "metadata": {},
     "output_type": "execute_result"
    }
   ],
   "source": [
    "h[1:6:2]"
   ]
  },
  {
   "cell_type": "code",
   "execution_count": 43,
   "id": "a4908905",
   "metadata": {},
   "outputs": [
    {
     "data": {
      "text/plain": [
       "[20, 'b']"
      ]
     },
     "execution_count": 43,
     "metadata": {},
     "output_type": "execute_result"
    }
   ],
   "source": [
    "h[0:7:5]"
   ]
  },
  {
   "cell_type": "code",
   "execution_count": 44,
   "id": "122d5e35",
   "metadata": {},
   "outputs": [
    {
     "data": {
      "text/plain": [
       "[20, 30, True, '96+4j', 'a', 'b', 'c', 2.55]"
      ]
     },
     "execution_count": 44,
     "metadata": {},
     "output_type": "execute_result"
    }
   ],
   "source": [
    "h"
   ]
  },
  {
   "cell_type": "code",
   "execution_count": 46,
   "id": "75330ca1",
   "metadata": {},
   "outputs": [
    {
     "data": {
      "text/plain": [
       "['96+4j', 'a']"
      ]
     },
     "execution_count": 46,
     "metadata": {},
     "output_type": "execute_result"
    }
   ],
   "source": [
    "h[-5:-3]"
   ]
  },
  {
   "cell_type": "code",
   "execution_count": 47,
   "id": "5c32cb17",
   "metadata": {},
   "outputs": [
    {
     "data": {
      "text/plain": [
       "[True, '96+4j', 'a', 'b']"
      ]
     },
     "execution_count": 47,
     "metadata": {},
     "output_type": "execute_result"
    }
   ],
   "source": [
    "h[-6:-2]"
   ]
  },
  {
   "cell_type": "code",
   "execution_count": 49,
   "id": "6880871c",
   "metadata": {},
   "outputs": [
    {
     "data": {
      "text/plain": [
       "['sbi', 'icici', 'hdfc', 'central', 'union', 'canara', 'city']"
      ]
     },
     "execution_count": 49,
     "metadata": {},
     "output_type": "execute_result"
    }
   ],
   "source": [
    "b = ['sbi','icici','hdfc','central', 'union','canara','city']\n",
    "b"
   ]
  },
  {
   "cell_type": "code",
   "execution_count": 51,
   "id": "e10ef901",
   "metadata": {},
   "outputs": [
    {
     "data": {
      "text/plain": [
       "['sbi', 'icici', 'hdfc', 'central', 'union', 'canara']"
      ]
     },
     "execution_count": 51,
     "metadata": {},
     "output_type": "execute_result"
    }
   ],
   "source": [
    "b[-7:-1]"
   ]
  },
  {
   "cell_type": "code",
   "execution_count": 52,
   "id": "13c7b70a",
   "metadata": {},
   "outputs": [
    {
     "data": {
      "text/plain": [
       "['city', 'canara', 'union', 'central', 'hdfc', 'icici', 'sbi']"
      ]
     },
     "execution_count": 52,
     "metadata": {},
     "output_type": "execute_result"
    }
   ],
   "source": [
    "b[::-1]"
   ]
  },
  {
   "cell_type": "code",
   "execution_count": 53,
   "id": "5976de41",
   "metadata": {},
   "outputs": [
    {
     "data": {
      "text/plain": [
       "['city', 'union', 'hdfc', 'sbi']"
      ]
     },
     "execution_count": 53,
     "metadata": {},
     "output_type": "execute_result"
    }
   ],
   "source": [
    "b[::-2]"
   ]
  },
  {
   "cell_type": "code",
   "execution_count": 54,
   "id": "cdc60c63",
   "metadata": {},
   "outputs": [
    {
     "data": {
      "text/plain": [
       "['sbi', 'icici', 'hdfc', 'central', 'union', 'canara', 'city']"
      ]
     },
     "execution_count": 54,
     "metadata": {},
     "output_type": "execute_result"
    }
   ],
   "source": [
    "b"
   ]
  },
  {
   "cell_type": "code",
   "execution_count": 55,
   "id": "ccfaea6d",
   "metadata": {},
   "outputs": [
    {
     "data": {
      "text/plain": [
       "['sbi', 'central', 'city']"
      ]
     },
     "execution_count": 55,
     "metadata": {},
     "output_type": "execute_result"
    }
   ],
   "source": [
    "b[::3]"
   ]
  },
  {
   "cell_type": "code",
   "execution_count": 56,
   "id": "1ed5af3b",
   "metadata": {},
   "outputs": [
    {
     "data": {
      "text/plain": [
       "['city', 'icici']"
      ]
     },
     "execution_count": 56,
     "metadata": {},
     "output_type": "execute_result"
    }
   ],
   "source": [
    "b[::-5]"
   ]
  },
  {
   "cell_type": "code",
   "execution_count": null,
   "id": "523fae17",
   "metadata": {},
   "outputs": [],
   "source": []
  }
 ],
 "metadata": {
  "kernelspec": {
   "display_name": "Python 3",
   "language": "python",
   "name": "python3"
  },
  "language_info": {
   "codemirror_mode": {
    "name": "ipython",
    "version": 3
   },
   "file_extension": ".py",
   "mimetype": "text/x-python",
   "name": "python",
   "nbconvert_exporter": "python",
   "pygments_lexer": "ipython3",
   "version": "3.9.9"
  }
 },
 "nbformat": 4,
 "nbformat_minor": 5
}
