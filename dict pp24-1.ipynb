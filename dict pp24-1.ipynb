{
 "cells": [
  {
   "cell_type": "markdown",
   "id": "996cdf03",
   "metadata": {},
   "source": [
    "           Dictionary        "
   ]
  },
  {
   "cell_type": "code",
   "execution_count": 12,
   "id": "eda3b662",
   "metadata": {},
   "outputs": [
    {
     "data": {
      "text/plain": [
       "{'name': 'Bhavesh', 'id': '5658', 'DOB': '2002', 'Add': 'Hyd'}"
      ]
     },
     "execution_count": 12,
     "metadata": {},
     "output_type": "execute_result"
    }
   ],
   "source": [
    "nd = {\n",
    "\n",
    "'name' : 'Bhavesh',    #created dictionary\n",
    "'id'   : '5658',\n",
    "'DOB'  : '2002',\n",
    "'Add'  : 'Hyd'\n",
    "\n",
    "}\n",
    "\n",
    "nd"
   ]
  },
  {
   "cell_type": "code",
   "execution_count": 13,
   "id": "29577e22",
   "metadata": {},
   "outputs": [
    {
     "data": {
      "text/plain": [
       "dict_keys(['name', 'id', 'DOB', 'Add'])"
      ]
     },
     "execution_count": 13,
     "metadata": {},
     "output_type": "execute_result"
    }
   ],
   "source": [
    "nd.keys() #calling entire key from dict"
   ]
  },
  {
   "cell_type": "code",
   "execution_count": 15,
   "id": "273da327",
   "metadata": {},
   "outputs": [
    {
     "data": {
      "text/plain": [
       "'Bhavesh'"
      ]
     },
     "execution_count": 15,
     "metadata": {},
     "output_type": "execute_result"
    }
   ],
   "source": [
    "nd['name'] #accessing value by calling key name"
   ]
  },
  {
   "cell_type": "code",
   "execution_count": 17,
   "id": "677e4b8e",
   "metadata": {},
   "outputs": [
    {
     "data": {
      "text/plain": [
       "dict_values(['Bhavesh', '5658', '2002', 'Hyd'])"
      ]
     },
     "execution_count": 17,
     "metadata": {},
     "output_type": "execute_result"
    }
   ],
   "source": [
    "nd.values() #calling entire values"
   ]
  },
  {
   "cell_type": "code",
   "execution_count": 24,
   "id": "0b1e10b8",
   "metadata": {},
   "outputs": [
    {
     "data": {
      "text/plain": [
       "{'name': 'Bhavesh',\n",
       " 'id': '5658',\n",
       " 'DOB': '2002',\n",
       " 'Add': 'Hyd',\n",
       " 'local': 'ngp',\n",
       " 'hoobies': 'Coding'}"
      ]
     },
     "execution_count": 24,
     "metadata": {},
     "output_type": "execute_result"
    }
   ],
   "source": [
    "nd['hoobies']='Coding' #adding key inside our already created dictionary\n",
    "nd"
   ]
  },
  {
   "cell_type": "code",
   "execution_count": 29,
   "id": "bb0acf61",
   "metadata": {},
   "outputs": [
    {
     "data": {
      "text/plain": [
       "{'name': 'Bhavesh',\n",
       " 'id': '6969',\n",
       " 'DOB': '2002',\n",
       " 'Add': 'Hyd',\n",
       " 'local': 'ngp',\n",
       " 'hoobies': 'learning'}"
      ]
     },
     "execution_count": 29,
     "metadata": {},
     "output_type": "execute_result"
    }
   ],
   "source": [
    "nd['id'] = '6969' #updating the existing key's value into our dictionary\n",
    "nd"
   ]
  },
  {
   "cell_type": "code",
   "execution_count": null,
   "id": "cb602960",
   "metadata": {},
   "outputs": [
    {
     "name": "stdout",
     "output_type": "stream",
     "text": [
      "True\n",
      "True\n"
     ]
    }
   ],
   "source": [
    "print('name'in nd) #checking wether the key is present in our dict or not\n",
    "print('id' in nd)"
   ]
  },
  {
   "cell_type": "code",
   "execution_count": 40,
   "id": "42e84e01",
   "metadata": {},
   "outputs": [
    {
     "data": {
      "text/plain": [
       "{'arun': '30', 'rahul': '20', 'bhavesh': '10'}"
      ]
     },
     "execution_count": 40,
     "metadata": {},
     "output_type": "execute_result"
    }
   ],
   "source": [
    "name = { 'arun':'30','rahul':'20','bhavesh':'10'}\n",
    "name"
   ]
  },
  {
   "cell_type": "code",
   "execution_count": null,
   "id": "bff1938c",
   "metadata": {},
   "outputs": [],
   "source": []
  }
 ],
 "metadata": {
  "kernelspec": {
   "display_name": "Python 3",
   "language": "python",
   "name": "python3"
  },
  "language_info": {
   "codemirror_mode": {
    "name": "ipython",
    "version": 3
   },
   "file_extension": ".py",
   "mimetype": "text/x-python",
   "name": "python",
   "nbconvert_exporter": "python",
   "pygments_lexer": "ipython3",
   "version": "3.13.1"
  }
 },
 "nbformat": 4,
 "nbformat_minor": 5
}
